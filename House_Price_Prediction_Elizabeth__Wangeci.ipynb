{
  "nbformat": 4,
  "nbformat_minor": 0,
  "metadata": {
    "colab": {
      "name": "House_Price_Prediction_Elizabeth _Wangeci.ipynb",
      "provenance": [],
      "collapsed_sections": [
        "kpHd5LlMyPBy"
      ]
    },
    "kernelspec": {
      "display_name": "Python 3",
      "language": "python",
      "name": "python3"
    },
    "language_info": {
      "codemirror_mode": {
        "name": "ipython",
        "version": 3
      },
      "file_extension": ".py",
      "mimetype": "text/x-python",
      "name": "python",
      "nbconvert_exporter": "python",
      "pygments_lexer": "ipython3",
      "version": "3.7.4"
    }
  },
  "cells": [
    {
      "cell_type": "markdown",
      "metadata": {
        "colab_type": "text",
        "id": "_8w9JjhWBjWq"
      },
      "source": [
        "##**Defining the Question.**"
      ]
    },
    {
      "cell_type": "markdown",
      "metadata": {
        "colab_type": "text",
        "id": "n-bVi-fABjY8"
      },
      "source": [
        "###a) Specifying the Question\n",
        "\n",
        "You have been tasked to study the factors that affect housing prices using the data provided. Then, create a model that would allow the company to accurately predict the  prices of houses"
      ]
    },
    {
      "cell_type": "markdown",
      "metadata": {
        "colab_type": "text",
        "id": "10UFRSnMBjbS"
      },
      "source": [
        "###b) Defining the Metric for Success\n",
        "\n",
        "Analyze data.\n",
        "Normalize data .\n",
        "Create accurate models"
      ]
    },
    {
      "cell_type": "markdown",
      "metadata": {
        "colab_type": "text",
        "id": "vLNf4OQ1BjgQ"
      },
      "source": [
        "###c) Understanding the context\n",
        "\n",
        "The data contains one dataset with the prices of houses from 1900 to 2015. It has 20 columns containing variables that will be used to predict the sales of prices\n",
        "\n",
        "Task:to predict the price of houses"
      ]
    },
    {
      "cell_type": "markdown",
      "metadata": {
        "colab_type": "text",
        "id": "1nrzln7gBjUW"
      },
      "source": [
        "###d) Recording the Experimental Design (CRISP- DM methodology)\n",
        "\n",
        "\n",
        "*   Get the data\n",
        "*   understand the data\n",
        "\n",
        "*   Clean the data\n",
        "*   Explore the data\n",
        "\n",
        "*   Create models\n",
        "*   Evaluate model perfomance\n",
        "\n",
        "\n",
        "\n",
        "\n",
        "\n",
        "\n"
      ]
    },
    {
      "cell_type": "markdown",
      "metadata": {
        "colab_type": "text",
        "id": "uSQb0nuACgrf"
      },
      "source": [
        "##**Data Relevance**"
      ]
    },
    {
      "cell_type": "markdown",
      "metadata": {
        "colab_type": "text",
        "id": "XxUyhMCgCgoI"
      },
      "source": [
        "###Loading the Libraries"
      ]
    },
    {
      "cell_type": "markdown",
      "metadata": {
        "colab_type": "text",
        "id": "TT3yLloMCglW"
      },
      "source": [
        ""
      ]
    },
    {
      "cell_type": "code",
      "metadata": {
        "colab_type": "code",
        "id": "zt_kx0F4Cc9T",
        "colab": {}
      },
      "source": [
        "#import pandas libraries\n",
        "import pandas as pd\n",
        "\n",
        "#Import numpy libraries\n",
        "import numpy as np\n",
        "import scipy as sp\n",
        "\n",
        "#import matplot libraries\n",
        "import matplotlib.pyplot as plt\n",
        "%matplotlib inline\n",
        "\n",
        "#import seaborn libraries\n",
        "import seaborn as sns\n",
        "\n",
        "# Import sklearn linear_model libraries \n",
        "from sklearn.model_selection import train_test_split\n",
        "from sklearn import metrics\n",
        "from sklearn.preprocessing import PolynomialFeatures\n",
        "from sklearn.model_selection import train_test_split\n",
        "from sklearn.linear_model import LinearRegression, LogisticRegression\n",
        "from sklearn.metrics import mean_squared_error,  r2_score\n",
        "from sklearn.linear_model import Ridge\n",
        "import statsmodels.formula.api as smf\n",
        "from sklearn.metrics import r2_score\n",
        "from sklearn.metrics import accuracy_score\n",
        "from sklearn.linear_model import ElasticNet\n",
        "from sklearn.preprocessing import LabelEncoder\n",
        "from sklearn.preprocessing import PolynomialFeatures\n",
        "from sklearn.preprocessing import StandardScaler\n",
        "from sklearn.linear_model import Ridge, Lasso, ElasticNet\n",
        "from sklearn.metrics import accuracy_score, confusion_matrix, f1_score, recall_score, precision_score \n",
        "from sklearn.linear_model import Lasso\n",
        "from sklearn.datasets import load_boston\n",
        "from sklearn import linear_model\n",
        "from sklearn.metrics import mean_squared_error\n",
        "from sklearn.model_selection import GridSearchCV\n",
        "\n"
      ],
      "execution_count": 0,
      "outputs": []
    },
    {
      "cell_type": "code",
      "metadata": {
        "colab_type": "code",
        "id": "SgUrvbpuCc62",
        "outputId": "a1453146-5528-405d-e675-2dd64ee163da",
        "colab": {
          "base_uri": "https://localhost:8080/",
          "height": 224
        }
      },
      "source": [
        "df = pd.read_csv('house_data.csv')\n",
        "df.head()"
      ],
      "execution_count": 13,
      "outputs": [
        {
          "output_type": "execute_result",
          "data": {
            "text/html": [
              "<div>\n",
              "<style scoped>\n",
              "    .dataframe tbody tr th:only-of-type {\n",
              "        vertical-align: middle;\n",
              "    }\n",
              "\n",
              "    .dataframe tbody tr th {\n",
              "        vertical-align: top;\n",
              "    }\n",
              "\n",
              "    .dataframe thead th {\n",
              "        text-align: right;\n",
              "    }\n",
              "</style>\n",
              "<table border=\"1\" class=\"dataframe\">\n",
              "  <thead>\n",
              "    <tr style=\"text-align: right;\">\n",
              "      <th></th>\n",
              "      <th>id</th>\n",
              "      <th>price</th>\n",
              "      <th>bedrooms</th>\n",
              "      <th>bathrooms</th>\n",
              "      <th>sqft_living</th>\n",
              "      <th>sqft_lot</th>\n",
              "      <th>floors</th>\n",
              "      <th>waterfront</th>\n",
              "      <th>view</th>\n",
              "      <th>condition</th>\n",
              "      <th>grade</th>\n",
              "      <th>sqft_above</th>\n",
              "      <th>sqft_basement</th>\n",
              "      <th>yr_built</th>\n",
              "      <th>yr_renovated</th>\n",
              "      <th>zipcode</th>\n",
              "      <th>lat</th>\n",
              "      <th>long</th>\n",
              "      <th>sqft_living15</th>\n",
              "      <th>sqft_lot15</th>\n",
              "    </tr>\n",
              "  </thead>\n",
              "  <tbody>\n",
              "    <tr>\n",
              "      <th>0</th>\n",
              "      <td>7129300520</td>\n",
              "      <td>221900.0</td>\n",
              "      <td>3</td>\n",
              "      <td>1.00</td>\n",
              "      <td>1180</td>\n",
              "      <td>5650</td>\n",
              "      <td>1.0</td>\n",
              "      <td>0</td>\n",
              "      <td>0</td>\n",
              "      <td>3</td>\n",
              "      <td>7</td>\n",
              "      <td>1180</td>\n",
              "      <td>0</td>\n",
              "      <td>1955</td>\n",
              "      <td>0</td>\n",
              "      <td>98178</td>\n",
              "      <td>47.5112</td>\n",
              "      <td>-122.257</td>\n",
              "      <td>1340</td>\n",
              "      <td>5650</td>\n",
              "    </tr>\n",
              "    <tr>\n",
              "      <th>1</th>\n",
              "      <td>6414100192</td>\n",
              "      <td>538000.0</td>\n",
              "      <td>3</td>\n",
              "      <td>2.25</td>\n",
              "      <td>2570</td>\n",
              "      <td>7242</td>\n",
              "      <td>2.0</td>\n",
              "      <td>0</td>\n",
              "      <td>0</td>\n",
              "      <td>3</td>\n",
              "      <td>7</td>\n",
              "      <td>2170</td>\n",
              "      <td>400</td>\n",
              "      <td>1951</td>\n",
              "      <td>1991</td>\n",
              "      <td>98125</td>\n",
              "      <td>47.7210</td>\n",
              "      <td>-122.319</td>\n",
              "      <td>1690</td>\n",
              "      <td>7639</td>\n",
              "    </tr>\n",
              "    <tr>\n",
              "      <th>2</th>\n",
              "      <td>5631500400</td>\n",
              "      <td>180000.0</td>\n",
              "      <td>2</td>\n",
              "      <td>1.00</td>\n",
              "      <td>770</td>\n",
              "      <td>10000</td>\n",
              "      <td>1.0</td>\n",
              "      <td>0</td>\n",
              "      <td>0</td>\n",
              "      <td>3</td>\n",
              "      <td>6</td>\n",
              "      <td>770</td>\n",
              "      <td>0</td>\n",
              "      <td>1933</td>\n",
              "      <td>0</td>\n",
              "      <td>98028</td>\n",
              "      <td>47.7379</td>\n",
              "      <td>-122.233</td>\n",
              "      <td>2720</td>\n",
              "      <td>8062</td>\n",
              "    </tr>\n",
              "    <tr>\n",
              "      <th>3</th>\n",
              "      <td>2487200875</td>\n",
              "      <td>604000.0</td>\n",
              "      <td>4</td>\n",
              "      <td>3.00</td>\n",
              "      <td>1960</td>\n",
              "      <td>5000</td>\n",
              "      <td>1.0</td>\n",
              "      <td>0</td>\n",
              "      <td>0</td>\n",
              "      <td>5</td>\n",
              "      <td>7</td>\n",
              "      <td>1050</td>\n",
              "      <td>910</td>\n",
              "      <td>1965</td>\n",
              "      <td>0</td>\n",
              "      <td>98136</td>\n",
              "      <td>47.5208</td>\n",
              "      <td>-122.393</td>\n",
              "      <td>1360</td>\n",
              "      <td>5000</td>\n",
              "    </tr>\n",
              "    <tr>\n",
              "      <th>4</th>\n",
              "      <td>1954400510</td>\n",
              "      <td>510000.0</td>\n",
              "      <td>3</td>\n",
              "      <td>2.00</td>\n",
              "      <td>1680</td>\n",
              "      <td>8080</td>\n",
              "      <td>1.0</td>\n",
              "      <td>0</td>\n",
              "      <td>0</td>\n",
              "      <td>3</td>\n",
              "      <td>8</td>\n",
              "      <td>1680</td>\n",
              "      <td>0</td>\n",
              "      <td>1987</td>\n",
              "      <td>0</td>\n",
              "      <td>98074</td>\n",
              "      <td>47.6168</td>\n",
              "      <td>-122.045</td>\n",
              "      <td>1800</td>\n",
              "      <td>7503</td>\n",
              "    </tr>\n",
              "  </tbody>\n",
              "</table>\n",
              "</div>"
            ],
            "text/plain": [
              "           id     price  bedrooms  ...     long  sqft_living15  sqft_lot15\n",
              "0  7129300520  221900.0         3  ... -122.257           1340        5650\n",
              "1  6414100192  538000.0         3  ... -122.319           1690        7639\n",
              "2  5631500400  180000.0         2  ... -122.233           2720        8062\n",
              "3  2487200875  604000.0         4  ... -122.393           1360        5000\n",
              "4  1954400510  510000.0         3  ... -122.045           1800        7503\n",
              "\n",
              "[5 rows x 20 columns]"
            ]
          },
          "metadata": {
            "tags": []
          },
          "execution_count": 13
        }
      ]
    },
    {
      "cell_type": "markdown",
      "metadata": {
        "colab_type": "text",
        "id": "QxNkAw6792tp"
      },
      "source": [
        "##**Access information about our datasets**"
      ]
    },
    {
      "cell_type": "code",
      "metadata": {
        "colab_type": "code",
        "id": "tWCr0DROCcyI",
        "outputId": "62909246-7fb9-4111-9bcb-a1aec1734898",
        "colab": {
          "base_uri": "https://localhost:8080/",
          "height": 476
        }
      },
      "source": [
        "#Check the datatypes\n",
        "df.info()"
      ],
      "execution_count": 14,
      "outputs": [
        {
          "output_type": "stream",
          "text": [
            "<class 'pandas.core.frame.DataFrame'>\n",
            "RangeIndex: 21613 entries, 0 to 21612\n",
            "Data columns (total 20 columns):\n",
            " #   Column         Non-Null Count  Dtype  \n",
            "---  ------         --------------  -----  \n",
            " 0   id             21613 non-null  int64  \n",
            " 1   price          21613 non-null  float64\n",
            " 2   bedrooms       21613 non-null  int64  \n",
            " 3   bathrooms      21613 non-null  float64\n",
            " 4   sqft_living    21613 non-null  int64  \n",
            " 5   sqft_lot       21613 non-null  int64  \n",
            " 6   floors         21613 non-null  float64\n",
            " 7   waterfront     21613 non-null  int64  \n",
            " 8   view           21613 non-null  int64  \n",
            " 9   condition      21613 non-null  int64  \n",
            " 10  grade          21613 non-null  int64  \n",
            " 11  sqft_above     21613 non-null  int64  \n",
            " 12  sqft_basement  21613 non-null  int64  \n",
            " 13  yr_built       21613 non-null  int64  \n",
            " 14  yr_renovated   21613 non-null  int64  \n",
            " 15  zipcode        21613 non-null  int64  \n",
            " 16  lat            21613 non-null  float64\n",
            " 17  long           21613 non-null  float64\n",
            " 18  sqft_living15  21613 non-null  int64  \n",
            " 19  sqft_lot15     21613 non-null  int64  \n",
            "dtypes: float64(5), int64(15)\n",
            "memory usage: 3.3 MB\n"
          ],
          "name": "stdout"
        }
      ]
    },
    {
      "cell_type": "markdown",
      "metadata": {
        "id": "SiG8owk1Qadk",
        "colab_type": "text"
      },
      "source": [
        "All the variables have the correct datatypes"
      ]
    },
    {
      "cell_type": "code",
      "metadata": {
        "id": "NBdu9gUzQOxU",
        "colab_type": "code",
        "colab": {
          "base_uri": "https://localhost:8080/",
          "height": 317
        },
        "outputId": "f9712d4c-c679-4acc-ddbf-4a7e6c3ca826"
      },
      "source": [
        "# Check more infomation on our data e.g measures of central tendency\n",
        "df.describe()"
      ],
      "execution_count": 15,
      "outputs": [
        {
          "output_type": "execute_result",
          "data": {
            "text/html": [
              "<div>\n",
              "<style scoped>\n",
              "    .dataframe tbody tr th:only-of-type {\n",
              "        vertical-align: middle;\n",
              "    }\n",
              "\n",
              "    .dataframe tbody tr th {\n",
              "        vertical-align: top;\n",
              "    }\n",
              "\n",
              "    .dataframe thead th {\n",
              "        text-align: right;\n",
              "    }\n",
              "</style>\n",
              "<table border=\"1\" class=\"dataframe\">\n",
              "  <thead>\n",
              "    <tr style=\"text-align: right;\">\n",
              "      <th></th>\n",
              "      <th>id</th>\n",
              "      <th>price</th>\n",
              "      <th>bedrooms</th>\n",
              "      <th>bathrooms</th>\n",
              "      <th>sqft_living</th>\n",
              "      <th>sqft_lot</th>\n",
              "      <th>floors</th>\n",
              "      <th>waterfront</th>\n",
              "      <th>view</th>\n",
              "      <th>condition</th>\n",
              "      <th>grade</th>\n",
              "      <th>sqft_above</th>\n",
              "      <th>sqft_basement</th>\n",
              "      <th>yr_built</th>\n",
              "      <th>yr_renovated</th>\n",
              "      <th>zipcode</th>\n",
              "      <th>lat</th>\n",
              "      <th>long</th>\n",
              "      <th>sqft_living15</th>\n",
              "      <th>sqft_lot15</th>\n",
              "    </tr>\n",
              "  </thead>\n",
              "  <tbody>\n",
              "    <tr>\n",
              "      <th>count</th>\n",
              "      <td>2.161300e+04</td>\n",
              "      <td>2.161300e+04</td>\n",
              "      <td>21613.000000</td>\n",
              "      <td>21613.000000</td>\n",
              "      <td>21613.000000</td>\n",
              "      <td>2.161300e+04</td>\n",
              "      <td>21613.000000</td>\n",
              "      <td>21613.000000</td>\n",
              "      <td>21613.000000</td>\n",
              "      <td>21613.000000</td>\n",
              "      <td>21613.000000</td>\n",
              "      <td>21613.000000</td>\n",
              "      <td>21613.000000</td>\n",
              "      <td>21613.000000</td>\n",
              "      <td>21613.000000</td>\n",
              "      <td>21613.000000</td>\n",
              "      <td>21613.000000</td>\n",
              "      <td>21613.000000</td>\n",
              "      <td>21613.000000</td>\n",
              "      <td>21613.000000</td>\n",
              "    </tr>\n",
              "    <tr>\n",
              "      <th>mean</th>\n",
              "      <td>4.580302e+09</td>\n",
              "      <td>5.401822e+05</td>\n",
              "      <td>3.370842</td>\n",
              "      <td>2.114757</td>\n",
              "      <td>2079.899736</td>\n",
              "      <td>1.510697e+04</td>\n",
              "      <td>1.494309</td>\n",
              "      <td>0.007542</td>\n",
              "      <td>0.234303</td>\n",
              "      <td>3.409430</td>\n",
              "      <td>7.656873</td>\n",
              "      <td>1788.390691</td>\n",
              "      <td>291.509045</td>\n",
              "      <td>1971.005136</td>\n",
              "      <td>84.402258</td>\n",
              "      <td>98077.939805</td>\n",
              "      <td>47.560053</td>\n",
              "      <td>-122.213896</td>\n",
              "      <td>1986.552492</td>\n",
              "      <td>12768.455652</td>\n",
              "    </tr>\n",
              "    <tr>\n",
              "      <th>std</th>\n",
              "      <td>2.876566e+09</td>\n",
              "      <td>3.673622e+05</td>\n",
              "      <td>0.930062</td>\n",
              "      <td>0.770163</td>\n",
              "      <td>918.440897</td>\n",
              "      <td>4.142051e+04</td>\n",
              "      <td>0.539989</td>\n",
              "      <td>0.086517</td>\n",
              "      <td>0.766318</td>\n",
              "      <td>0.650743</td>\n",
              "      <td>1.175459</td>\n",
              "      <td>828.090978</td>\n",
              "      <td>442.575043</td>\n",
              "      <td>29.373411</td>\n",
              "      <td>401.679240</td>\n",
              "      <td>53.505026</td>\n",
              "      <td>0.138564</td>\n",
              "      <td>0.140828</td>\n",
              "      <td>685.391304</td>\n",
              "      <td>27304.179631</td>\n",
              "    </tr>\n",
              "    <tr>\n",
              "      <th>min</th>\n",
              "      <td>1.000102e+06</td>\n",
              "      <td>7.500000e+04</td>\n",
              "      <td>0.000000</td>\n",
              "      <td>0.000000</td>\n",
              "      <td>290.000000</td>\n",
              "      <td>5.200000e+02</td>\n",
              "      <td>1.000000</td>\n",
              "      <td>0.000000</td>\n",
              "      <td>0.000000</td>\n",
              "      <td>1.000000</td>\n",
              "      <td>1.000000</td>\n",
              "      <td>290.000000</td>\n",
              "      <td>0.000000</td>\n",
              "      <td>1900.000000</td>\n",
              "      <td>0.000000</td>\n",
              "      <td>98001.000000</td>\n",
              "      <td>47.155900</td>\n",
              "      <td>-122.519000</td>\n",
              "      <td>399.000000</td>\n",
              "      <td>651.000000</td>\n",
              "    </tr>\n",
              "    <tr>\n",
              "      <th>25%</th>\n",
              "      <td>2.123049e+09</td>\n",
              "      <td>3.219500e+05</td>\n",
              "      <td>3.000000</td>\n",
              "      <td>1.750000</td>\n",
              "      <td>1427.000000</td>\n",
              "      <td>5.040000e+03</td>\n",
              "      <td>1.000000</td>\n",
              "      <td>0.000000</td>\n",
              "      <td>0.000000</td>\n",
              "      <td>3.000000</td>\n",
              "      <td>7.000000</td>\n",
              "      <td>1190.000000</td>\n",
              "      <td>0.000000</td>\n",
              "      <td>1951.000000</td>\n",
              "      <td>0.000000</td>\n",
              "      <td>98033.000000</td>\n",
              "      <td>47.471000</td>\n",
              "      <td>-122.328000</td>\n",
              "      <td>1490.000000</td>\n",
              "      <td>5100.000000</td>\n",
              "    </tr>\n",
              "    <tr>\n",
              "      <th>50%</th>\n",
              "      <td>3.904930e+09</td>\n",
              "      <td>4.500000e+05</td>\n",
              "      <td>3.000000</td>\n",
              "      <td>2.250000</td>\n",
              "      <td>1910.000000</td>\n",
              "      <td>7.618000e+03</td>\n",
              "      <td>1.500000</td>\n",
              "      <td>0.000000</td>\n",
              "      <td>0.000000</td>\n",
              "      <td>3.000000</td>\n",
              "      <td>7.000000</td>\n",
              "      <td>1560.000000</td>\n",
              "      <td>0.000000</td>\n",
              "      <td>1975.000000</td>\n",
              "      <td>0.000000</td>\n",
              "      <td>98065.000000</td>\n",
              "      <td>47.571800</td>\n",
              "      <td>-122.230000</td>\n",
              "      <td>1840.000000</td>\n",
              "      <td>7620.000000</td>\n",
              "    </tr>\n",
              "    <tr>\n",
              "      <th>75%</th>\n",
              "      <td>7.308900e+09</td>\n",
              "      <td>6.450000e+05</td>\n",
              "      <td>4.000000</td>\n",
              "      <td>2.500000</td>\n",
              "      <td>2550.000000</td>\n",
              "      <td>1.068800e+04</td>\n",
              "      <td>2.000000</td>\n",
              "      <td>0.000000</td>\n",
              "      <td>0.000000</td>\n",
              "      <td>4.000000</td>\n",
              "      <td>8.000000</td>\n",
              "      <td>2210.000000</td>\n",
              "      <td>560.000000</td>\n",
              "      <td>1997.000000</td>\n",
              "      <td>0.000000</td>\n",
              "      <td>98118.000000</td>\n",
              "      <td>47.678000</td>\n",
              "      <td>-122.125000</td>\n",
              "      <td>2360.000000</td>\n",
              "      <td>10083.000000</td>\n",
              "    </tr>\n",
              "    <tr>\n",
              "      <th>max</th>\n",
              "      <td>9.900000e+09</td>\n",
              "      <td>7.700000e+06</td>\n",
              "      <td>33.000000</td>\n",
              "      <td>8.000000</td>\n",
              "      <td>13540.000000</td>\n",
              "      <td>1.651359e+06</td>\n",
              "      <td>3.500000</td>\n",
              "      <td>1.000000</td>\n",
              "      <td>4.000000</td>\n",
              "      <td>5.000000</td>\n",
              "      <td>13.000000</td>\n",
              "      <td>9410.000000</td>\n",
              "      <td>4820.000000</td>\n",
              "      <td>2015.000000</td>\n",
              "      <td>2015.000000</td>\n",
              "      <td>98199.000000</td>\n",
              "      <td>47.777600</td>\n",
              "      <td>-121.315000</td>\n",
              "      <td>6210.000000</td>\n",
              "      <td>871200.000000</td>\n",
              "    </tr>\n",
              "  </tbody>\n",
              "</table>\n",
              "</div>"
            ],
            "text/plain": [
              "                 id         price  ...  sqft_living15     sqft_lot15\n",
              "count  2.161300e+04  2.161300e+04  ...   21613.000000   21613.000000\n",
              "mean   4.580302e+09  5.401822e+05  ...    1986.552492   12768.455652\n",
              "std    2.876566e+09  3.673622e+05  ...     685.391304   27304.179631\n",
              "min    1.000102e+06  7.500000e+04  ...     399.000000     651.000000\n",
              "25%    2.123049e+09  3.219500e+05  ...    1490.000000    5100.000000\n",
              "50%    3.904930e+09  4.500000e+05  ...    1840.000000    7620.000000\n",
              "75%    7.308900e+09  6.450000e+05  ...    2360.000000   10083.000000\n",
              "max    9.900000e+09  7.700000e+06  ...    6210.000000  871200.000000\n",
              "\n",
              "[8 rows x 20 columns]"
            ]
          },
          "metadata": {
            "tags": []
          },
          "execution_count": 15
        }
      ]
    },
    {
      "cell_type": "code",
      "metadata": {
        "colab_type": "code",
        "id": "1iq1R-bV_-dR",
        "outputId": "b4bc98c6-128c-4209-a7e6-7714996967ef",
        "colab": {
          "base_uri": "https://localhost:8080/",
          "height": 34
        }
      },
      "source": [
        "#Show the shape of the datasets\n",
        "print(df.shape)\n"
      ],
      "execution_count": 16,
      "outputs": [
        {
          "output_type": "stream",
          "text": [
            "(21613, 20)\n"
          ],
          "name": "stdout"
        }
      ]
    },
    {
      "cell_type": "code",
      "metadata": {
        "colab_type": "code",
        "id": "qE5A6vVlEibq",
        "outputId": "3dcfb6d7-6859-45bf-fd24-72b38995b370",
        "colab": {
          "base_uri": "https://localhost:8080/",
          "height": 374
        }
      },
      "source": [
        "#Check missing values\n",
        "df.isnull().sum()"
      ],
      "execution_count": 17,
      "outputs": [
        {
          "output_type": "execute_result",
          "data": {
            "text/plain": [
              "id               0\n",
              "price            0\n",
              "bedrooms         0\n",
              "bathrooms        0\n",
              "sqft_living      0\n",
              "sqft_lot         0\n",
              "floors           0\n",
              "waterfront       0\n",
              "view             0\n",
              "condition        0\n",
              "grade            0\n",
              "sqft_above       0\n",
              "sqft_basement    0\n",
              "yr_built         0\n",
              "yr_renovated     0\n",
              "zipcode          0\n",
              "lat              0\n",
              "long             0\n",
              "sqft_living15    0\n",
              "sqft_lot15       0\n",
              "dtype: int64"
            ]
          },
          "metadata": {
            "tags": []
          },
          "execution_count": 17
        }
      ]
    },
    {
      "cell_type": "markdown",
      "metadata": {
        "colab_type": "text",
        "id": "9Dp3ARTGEtDR"
      },
      "source": [
        "There are no missing values"
      ]
    },
    {
      "cell_type": "markdown",
      "metadata": {
        "colab_type": "text",
        "id": "SzWW07KfE65W"
      },
      "source": [
        "##**Exploratory Data Analysis**"
      ]
    },
    {
      "cell_type": "markdown",
      "metadata": {
        "colab_type": "text",
        "id": "pKuaxjhuE_b3"
      },
      "source": [
        "### Checking for anomalies"
      ]
    },
    {
      "cell_type": "code",
      "metadata": {
        "colab_type": "code",
        "id": "VgBXekpSFJyb",
        "outputId": "966145a1-2cd4-4528-fe37-86db55469360",
        "colab": {
          "base_uri": "https://localhost:8080/",
          "height": 102
        }
      },
      "source": [
        "df.columns"
      ],
      "execution_count": 18,
      "outputs": [
        {
          "output_type": "execute_result",
          "data": {
            "text/plain": [
              "Index(['id', 'price', 'bedrooms', 'bathrooms', 'sqft_living', 'sqft_lot',\n",
              "       'floors', 'waterfront', 'view', 'condition', 'grade', 'sqft_above',\n",
              "       'sqft_basement', 'yr_built', 'yr_renovated', 'zipcode', 'lat', 'long',\n",
              "       'sqft_living15', 'sqft_lot15'],\n",
              "      dtype='object')"
            ]
          },
          "metadata": {
            "tags": []
          },
          "execution_count": 18
        }
      ]
    },
    {
      "cell_type": "code",
      "metadata": {
        "colab_type": "code",
        "id": "T4Kq0gPM-eOM",
        "outputId": "b796a68a-3d32-4d8c-edb4-2be8e2736776",
        "colab": {
          "base_uri": "https://localhost:8080/",
          "height": 279
        }
      },
      "source": [
        "\n",
        "#boxplots for bathroom column\n",
        "\n",
        "sns.boxplot(df['bathrooms'])\n",
        "plt.show()"
      ],
      "execution_count": 19,
      "outputs": [
        {
          "output_type": "display_data",
          "data": {
            "image/png": "[encoded data removed]",
            "text/plain": [
              "<Figure size 432x288 with 1 Axes>"
            ]
          },
          "metadata": {
            "tags": [],
            "needs_background": "light"
          }
        }
      ]
    },
    {
      "cell_type": "code",
      "metadata": {
        "colab_type": "code",
        "id": "eYsGfypJGjtt",
        "outputId": "8c38dce6-dd48-45b0-9a91-d8cdc2baeec4",
        "colab": {
          "base_uri": "https://localhost:8080/",
          "height": 279
        }
      },
      "source": [
        "#boxplots for bedroom column\n",
        "sns.boxplot(df['bedrooms'])\n",
        "plt.show()"
      ],
      "execution_count": 20,
      "outputs": [
        {
          "output_type": "display_data",
          "data": {
            "image/png": "[encoded data removed]",
            "text/plain": [
              "<Figure size 432x288 with 1 Axes>"
            ]
          },
          "metadata": {
            "tags": [],
            "needs_background": "light"
          }
        }
      ]
    },
    {
      "cell_type": "markdown",
      "metadata": {
        "colab_type": "text",
        "id": "S6DHyf-0Gy2c"
      },
      "source": [
        "There is one outlier that is so extreme. Let's visualize the column"
      ]
    },
    {
      "cell_type": "code",
      "metadata": {
        "colab_type": "code",
        "id": "NLKWP3-oGpsV",
        "outputId": "24b2cc5a-5c9b-4fdf-f9b5-c1c793a01de5",
        "colab": {
          "base_uri": "https://localhost:8080/",
          "height": 100
        }
      },
      "source": [
        "#View the row that has the outlier \n",
        "outlier = df[df[\"bedrooms\"] >= 30]\n",
        "outlier"
      ],
      "execution_count": 21,
      "outputs": [
        {
          "output_type": "execute_result",
          "data": {
            "text/html": [
              "<div>\n",
              "<style scoped>\n",
              "    .dataframe tbody tr th:only-of-type {\n",
              "        vertical-align: middle;\n",
              "    }\n",
              "\n",
              "    .dataframe tbody tr th {\n",
              "        vertical-align: top;\n",
              "    }\n",
              "\n",
              "    .dataframe thead th {\n",
              "        text-align: right;\n",
              "    }\n",
              "</style>\n",
              "<table border=\"1\" class=\"dataframe\">\n",
              "  <thead>\n",
              "    <tr style=\"text-align: right;\">\n",
              "      <th></th>\n",
              "      <th>id</th>\n",
              "      <th>price</th>\n",
              "      <th>bedrooms</th>\n",
              "      <th>bathrooms</th>\n",
              "      <th>sqft_living</th>\n",
              "      <th>sqft_lot</th>\n",
              "      <th>floors</th>\n",
              "      <th>waterfront</th>\n",
              "      <th>view</th>\n",
              "      <th>condition</th>\n",
              "      <th>grade</th>\n",
              "      <th>sqft_above</th>\n",
              "      <th>sqft_basement</th>\n",
              "      <th>yr_built</th>\n",
              "      <th>yr_renovated</th>\n",
              "      <th>zipcode</th>\n",
              "      <th>lat</th>\n",
              "      <th>long</th>\n",
              "      <th>sqft_living15</th>\n",
              "      <th>sqft_lot15</th>\n",
              "    </tr>\n",
              "  </thead>\n",
              "  <tbody>\n",
              "    <tr>\n",
              "      <th>15870</th>\n",
              "      <td>2402100895</td>\n",
              "      <td>640000.0</td>\n",
              "      <td>33</td>\n",
              "      <td>1.75</td>\n",
              "      <td>1620</td>\n",
              "      <td>6000</td>\n",
              "      <td>1.0</td>\n",
              "      <td>0</td>\n",
              "      <td>0</td>\n",
              "      <td>5</td>\n",
              "      <td>7</td>\n",
              "      <td>1040</td>\n",
              "      <td>580</td>\n",
              "      <td>1947</td>\n",
              "      <td>0</td>\n",
              "      <td>98103</td>\n",
              "      <td>47.6878</td>\n",
              "      <td>-122.331</td>\n",
              "      <td>1330</td>\n",
              "      <td>4700</td>\n",
              "    </tr>\n",
              "  </tbody>\n",
              "</table>\n",
              "</div>"
            ],
            "text/plain": [
              "               id     price  bedrooms  ...     long  sqft_living15  sqft_lot15\n",
              "15870  2402100895  640000.0        33  ... -122.331           1330        4700\n",
              "\n",
              "[1 rows x 20 columns]"
            ]
          },
          "metadata": {
            "tags": []
          },
          "execution_count": 21
        }
      ]
    },
    {
      "cell_type": "markdown",
      "metadata": {
        "colab_type": "text",
        "id": "rYSPKyGhHdKv"
      },
      "source": [
        "The row contains 33 bedrooms, is a grade 7, price is relevant to our data.It may have been an input error so we drop it so that our data ceases to be extremely skewed. "
      ]
    },
    {
      "cell_type": "code",
      "metadata": {
        "colab_type": "code",
        "id": "uv-bKlx1JMun",
        "outputId": "e1a34d6f-6a07-47e0-97fc-fa68a30743e1",
        "colab": {
          "base_uri": "https://localhost:8080/",
          "height": 34
        }
      },
      "source": [
        "#drop the row by index\n",
        "\n",
        "df=df.drop(df.index[15870])\n",
        "\n",
        "# Confirm the index row has been deleted.\n",
        "df.shape"
      ],
      "execution_count": 22,
      "outputs": [
        {
          "output_type": "execute_result",
          "data": {
            "text/plain": [
              "(21612, 20)"
            ]
          },
          "metadata": {
            "tags": []
          },
          "execution_count": 22
        }
      ]
    },
    {
      "cell_type": "code",
      "metadata": {
        "colab_type": "code",
        "id": "za9a7ym5HIZp",
        "outputId": "38d6b9b1-b596-4075-c311-e1cfe7c6f7e1",
        "colab": {
          "base_uri": "https://localhost:8080/",
          "height": 296
        }
      },
      "source": [
        "sns.boxplot(df['price'])"
      ],
      "execution_count": 23,
      "outputs": [
        {
          "output_type": "execute_result",
          "data": {
            "text/plain": [
              "<matplotlib.axes._subplots.AxesSubplot at 0x7f89f5cd5c18>"
            ]
          },
          "metadata": {
            "tags": []
          },
          "execution_count": 23
        },
        {
          "output_type": "display_data",
          "data": {
            "image/png": "[encoded data removed]",
            "text/plain": [
              "<Figure size 432x288 with 1 Axes>"
            ]
          },
          "metadata": {
            "tags": [],
            "needs_background": "light"
          }
        }
      ]
    },
    {
      "cell_type": "markdown",
      "metadata": {
        "colab_type": "text",
        "id": "N_cUFPwGIwxF"
      },
      "source": [
        "The dataset contains houses that are very expensive, we might not tell if they are outluers, hence we will not drop them\n",
        " "
      ]
    },
    {
      "cell_type": "markdown",
      "metadata": {
        "colab_type": "text",
        "id": "XBxLj13uLy2Z"
      },
      "source": [
        "### Checking for duplicates"
      ]
    },
    {
      "cell_type": "code",
      "metadata": {
        "colab_type": "code",
        "id": "WmDPDZCVIs3K",
        "outputId": "b8847bc8-fd05-4036-e864-390109d496cd",
        "colab": {
          "base_uri": "https://localhost:8080/",
          "height": 34
        }
      },
      "source": [
        "# Checking for sum of duplicated rows\n",
        "df.duplicated().sum()"
      ],
      "execution_count": 24,
      "outputs": [
        {
          "output_type": "execute_result",
          "data": {
            "text/plain": [
              "3"
            ]
          },
          "metadata": {
            "tags": []
          },
          "execution_count": 24
        }
      ]
    },
    {
      "cell_type": "code",
      "metadata": {
        "colab_type": "code",
        "id": "_Ch_g0kkL2pe",
        "outputId": "8cc89004-2e58-4243-b5c7-75963a822069",
        "colab": {
          "base_uri": "https://localhost:8080/",
          "height": 34
        }
      },
      "source": [
        "#Drop the 3 duplicated rows\n",
        "df.drop_duplicates(keep=False,inplace=True) \n",
        "df.duplicated().sum()"
      ],
      "execution_count": 25,
      "outputs": [
        {
          "output_type": "execute_result",
          "data": {
            "text/plain": [
              "0"
            ]
          },
          "metadata": {
            "tags": []
          },
          "execution_count": 25
        }
      ]
    },
    {
      "cell_type": "code",
      "metadata": {
        "colab_type": "code",
        "id": "JedRvFDZMENC",
        "colab": {}
      },
      "source": [
        ""
      ],
      "execution_count": 0,
      "outputs": []
    },
    {
      "cell_type": "markdown",
      "metadata": {
        "colab_type": "text",
        "id": "z2WD6675MgJV"
      },
      "source": [
        "Most houses are 3 bedroomed, have 2 bathrooms,and price is about 450000, conditions are 3 and mostly built in 1975"
      ]
    },
    {
      "cell_type": "markdown",
      "metadata": {
        "colab_type": "text",
        "id": "ouRmZ1SkNmay"
      },
      "source": [
        "###**Univariate Analysis**"
      ]
    },
    {
      "cell_type": "code",
      "metadata": {
        "colab_type": "code",
        "id": "7cgwADJ4MM_U",
        "outputId": "9a3713bb-b481-4e37-9464-685217ace8e2",
        "colab": {
          "base_uri": "https://localhost:8080/",
          "height": 312
        }
      },
      "source": [
        "# Plot using histograms\n",
        "sns.distplot(df[\"bedrooms\"],color=\"green\",rug=True)\n",
        "plt.title(\"Distribution of bedrooms\")\n",
        "plt. ylabel('Frequency')\n",
        "plt. xlabel('Price')\n",
        "plt.figure(figsize=(15,15))\n",
        "plt.show()"
      ],
      "execution_count": 26,
      "outputs": [
        {
          "output_type": "display_data",
          "data": {
            "image/png": "[encoded data removed]",
            "text/plain": [
              "<Figure size 432x288 with 1 Axes>"
            ]
          },
          "metadata": {
            "tags": [],
            "needs_background": "light"
          }
        },
        {
          "output_type": "display_data",
          "data": {
            "text/plain": [
              "<Figure size 1080x1080 with 0 Axes>"
            ]
          },
          "metadata": {
            "tags": []
          }
        }
      ]
    },
    {
      "cell_type": "code",
      "metadata": {
        "colab_type": "code",
        "id": "-tNvycnhark_",
        "outputId": "cf1928bc-fccd-47ad-b800-919f3852b6c9",
        "colab": {
          "base_uri": "https://localhost:8080/",
          "height": 350
        }
      },
      "source": [
        "#  A graphical view of the home prices\n",
        "plt.figure(figsize = (8,5))\n",
        "\n",
        "sns.distplot(df['price']) \n",
        "plt.xlabel('price')\n",
        "plt.ylabel('frequency')\n",
        "plt.title('Frequency distribution of Home Prices')\n",
        "plt.show()"
      ],
      "execution_count": 27,
      "outputs": [
        {
          "output_type": "display_data",
          "data": {
            "image/png": "[encoded data removed]",
            "text/plain": [
              "<Figure size 576x360 with 1 Axes>"
            ]
          },
          "metadata": {
            "tags": [],
            "needs_background": "light"
          }
        }
      ]
    },
    {
      "cell_type": "code",
      "metadata": {
        "colab_type": "code",
        "id": "bjoLdN0rPTSm",
        "outputId": "5f9c9278-c547-4b55-a1b4-86b5e9142c9c",
        "colab": {
          "base_uri": "https://localhost:8080/",
          "height": 296
        }
      },
      "source": [
        "\n",
        "sns.distplot(df[\"yr_built\"],color=\"green\",rug=True)\n",
        "plt.title(\"Distribution of years houses were built\",color='black')\n",
        "plt.show()"
      ],
      "execution_count": 28,
      "outputs": [
        {
          "output_type": "display_data",
          "data": {
            "image/png": "[encoded data removed]",
            "text/plain": [
              "<Figure size 432x288 with 1 Axes>"
            ]
          },
          "metadata": {
            "tags": [],
            "needs_background": "light"
          }
        }
      ]
    },
    {
      "cell_type": "markdown",
      "metadata": {
        "colab_type": "text",
        "id": "ATXwidS2TDda"
      },
      "source": [
        "Most houses were built from 1940"
      ]
    },
    {
      "cell_type": "markdown",
      "metadata": {
        "colab_type": "text",
        "id": "OdKlI6c_QyIv"
      },
      "source": [
        "###**Bivariate Analysis**"
      ]
    },
    {
      "cell_type": "code",
      "metadata": {
        "colab_type": "code",
        "id": "4HZrIiHIUVNn",
        "outputId": "87080b9b-2761-4136-c2c4-1d7bc0ad3e73",
        "colab": {
          "base_uri": "https://localhost:8080/",
          "height": 700
        }
      },
      "source": [
        "group_data = df.groupby(['yr_built','bedrooms'])['price'].max()\n",
        "pd.DataFrame(group_data).head(20)"
      ],
      "execution_count": 29,
      "outputs": [
        {
          "output_type": "execute_result",
          "data": {
            "text/html": [
              "<div>\n",
              "<style scoped>\n",
              "    .dataframe tbody tr th:only-of-type {\n",
              "        vertical-align: middle;\n",
              "    }\n",
              "\n",
              "    .dataframe tbody tr th {\n",
              "        vertical-align: top;\n",
              "    }\n",
              "\n",
              "    .dataframe thead th {\n",
              "        text-align: right;\n",
              "    }\n",
              "</style>\n",
              "<table border=\"1\" class=\"dataframe\">\n",
              "  <thead>\n",
              "    <tr style=\"text-align: right;\">\n",
              "      <th></th>\n",
              "      <th></th>\n",
              "      <th>price</th>\n",
              "    </tr>\n",
              "    <tr>\n",
              "      <th>yr_built</th>\n",
              "      <th>bedrooms</th>\n",
              "      <th></th>\n",
              "    </tr>\n",
              "  </thead>\n",
              "  <tbody>\n",
              "    <tr>\n",
              "      <th rowspan=\"6\" valign=\"top\">1900</th>\n",
              "      <th>1</th>\n",
              "      <td>415000.0</td>\n",
              "    </tr>\n",
              "    <tr>\n",
              "      <th>2</th>\n",
              "      <td>1700000.0</td>\n",
              "    </tr>\n",
              "    <tr>\n",
              "      <th>3</th>\n",
              "      <td>1330000.0</td>\n",
              "    </tr>\n",
              "    <tr>\n",
              "      <th>4</th>\n",
              "      <td>1400000.0</td>\n",
              "    </tr>\n",
              "    <tr>\n",
              "      <th>5</th>\n",
              "      <td>870000.0</td>\n",
              "    </tr>\n",
              "    <tr>\n",
              "      <th>6</th>\n",
              "      <td>1300000.0</td>\n",
              "    </tr>\n",
              "    <tr>\n",
              "      <th rowspan=\"6\" valign=\"top\">1901</th>\n",
              "      <th>2</th>\n",
              "      <td>780000.0</td>\n",
              "    </tr>\n",
              "    <tr>\n",
              "      <th>3</th>\n",
              "      <td>700000.0</td>\n",
              "    </tr>\n",
              "    <tr>\n",
              "      <th>4</th>\n",
              "      <td>865000.0</td>\n",
              "    </tr>\n",
              "    <tr>\n",
              "      <th>5</th>\n",
              "      <td>1230000.0</td>\n",
              "    </tr>\n",
              "    <tr>\n",
              "      <th>7</th>\n",
              "      <td>599000.0</td>\n",
              "    </tr>\n",
              "    <tr>\n",
              "      <th>8</th>\n",
              "      <td>680000.0</td>\n",
              "    </tr>\n",
              "    <tr>\n",
              "      <th rowspan=\"5\" valign=\"top\">1902</th>\n",
              "      <th>2</th>\n",
              "      <td>751750.0</td>\n",
              "    </tr>\n",
              "    <tr>\n",
              "      <th>3</th>\n",
              "      <td>900000.0</td>\n",
              "    </tr>\n",
              "    <tr>\n",
              "      <th>4</th>\n",
              "      <td>1330000.0</td>\n",
              "    </tr>\n",
              "    <tr>\n",
              "      <th>5</th>\n",
              "      <td>1990000.0</td>\n",
              "    </tr>\n",
              "    <tr>\n",
              "      <th>6</th>\n",
              "      <td>665000.0</td>\n",
              "    </tr>\n",
              "    <tr>\n",
              "      <th rowspan=\"3\" valign=\"top\">1903</th>\n",
              "      <th>1</th>\n",
              "      <td>170000.0</td>\n",
              "    </tr>\n",
              "    <tr>\n",
              "      <th>2</th>\n",
              "      <td>650000.0</td>\n",
              "    </tr>\n",
              "    <tr>\n",
              "      <th>3</th>\n",
              "      <td>1020000.0</td>\n",
              "    </tr>\n",
              "  </tbody>\n",
              "</table>\n",
              "</div>"
            ],
            "text/plain": [
              "                       price\n",
              "yr_built bedrooms           \n",
              "1900     1          415000.0\n",
              "         2         1700000.0\n",
              "         3         1330000.0\n",
              "         4         1400000.0\n",
              "         5          870000.0\n",
              "         6         1300000.0\n",
              "1901     2          780000.0\n",
              "         3          700000.0\n",
              "         4          865000.0\n",
              "         5         1230000.0\n",
              "         7          599000.0\n",
              "         8          680000.0\n",
              "1902     2          751750.0\n",
              "         3          900000.0\n",
              "         4         1330000.0\n",
              "         5         1990000.0\n",
              "         6          665000.0\n",
              "1903     1          170000.0\n",
              "         2          650000.0\n",
              "         3         1020000.0"
            ]
          },
          "metadata": {
            "tags": []
          },
          "execution_count": 29
        }
      ]
    },
    {
      "cell_type": "code",
      "metadata": {
        "colab_type": "code",
        "id": "kCGM2FdSQ-pW",
        "outputId": "0a9cbe82-ac45-49ea-9508-bf7d407f84a5",
        "colab": {
          "base_uri": "https://localhost:8080/",
          "height": 296
        }
      },
      "source": [
        "# Plot scatter plot\n",
        "plt.scatter(df[\"sqft_living\"],df[\"price\"])\n",
        "plt.ylabel(\"house price\")\n",
        "plt.xlabel(\"sqft_living\")\n",
        "plt.title(\"price vs sqft_living\")\n",
        "plt.show()"
      ],
      "execution_count": 30,
      "outputs": [
        {
          "output_type": "display_data",
          "data": {
            "image/png": "[encoded data removed]",
            "text/plain": [
              "<Figure size 432x288 with 1 Axes>"
            ]
          },
          "metadata": {
            "tags": [],
            "needs_background": "light"
          }
        }
      ]
    },
    {
      "cell_type": "markdown",
      "metadata": {
        "colab_type": "text",
        "id": "TMoqUnVhR2gj"
      },
      "source": [
        "The scatter plot shows a positive linear correlation as the increase in the sqft_ living increases the house prices"
      ]
    },
    {
      "cell_type": "code",
      "metadata": {
        "colab_type": "code",
        "id": "A4InMVcaR0LW",
        "outputId": "757edba8-5f58-4e1a-b7a0-87094ef02b56",
        "colab": {
          "base_uri": "https://localhost:8080/",
          "height": 295
        }
      },
      "source": [
        "# Plot scatter plot\n",
        "plt.scatter(df[\"bathrooms\"],df[\"price\"])\n",
        "plt.ylabel(\"house price\")\n",
        "plt.xlabel(\"number of bathrooms\")\n",
        "plt.title(\"price vs bathrooms\")\n",
        "plt.show()"
      ],
      "execution_count": 31,
      "outputs": [
        {
          "output_type": "display_data",
          "data": {
            "image/png": "[encoded data removed]",
            "text/plain": [
              "<Figure size 432x288 with 1 Axes>"
            ]
          },
          "metadata": {
            "tags": [],
            "needs_background": "light"
          }
        }
      ]
    },
    {
      "cell_type": "markdown",
      "metadata": {
        "colab_type": "text",
        "id": "2oguMLizTZjc"
      },
      "source": [
        "The plots throughout the scatterplot,this shows that number of bathrooms doesn't affect the house price. There are houses with more bathrooms but price is relatively lower."
      ]
    },
    {
      "cell_type": "markdown",
      "metadata": {
        "colab_type": "text",
        "id": "uBagv5rOWsqM"
      },
      "source": [
        "##**Multivariate Analysis**"
      ]
    },
    {
      "cell_type": "code",
      "metadata": {
        "colab_type": "code",
        "id": "bpeCMUGIWGfL",
        "outputId": "290dee4c-6f83-4203-ca19-c00c49a2629c",
        "colab": {
          "base_uri": "https://localhost:8080/",
          "height": 238
        }
      },
      "source": [
        "print(df[['floors','bedrooms','sqft_living']].sort_values('floors',ascending=False).head(10))\n",
        "\n",
        "print('----------------------------------------------')\n",
        "\n",
        "\n",
        "print('Highest floor is',df['floors'].max())"
      ],
      "execution_count": 32,
      "outputs": [
        {
          "output_type": "stream",
          "text": [
            "       floors  bedrooms  sqft_living\n",
            "15424     3.5         2         1730\n",
            "14885     3.5         3         1730\n",
            "11594     3.5         3         1760\n",
            "875       3.5         0         3064\n",
            "18477     3.5         8         7710\n",
            "20308     3.5         2         1310\n",
            "20772     3.5         3         1400\n",
            "10077     3.5         3         1440\n",
            "20546     3.0         3         1300\n",
            "20554     3.0         3         1408\n",
            "----------------------------------------------\n",
            "Highest floor is 3.5\n"
          ],
          "name": "stdout"
        }
      ]
    },
    {
      "cell_type": "code",
      "metadata": {
        "colab_type": "code",
        "id": "J6ngXaGNVqaM",
        "outputId": "81e0950f-f05c-43b9-bf3e-1e28fbfa1dde",
        "colab": {
          "base_uri": "https://localhost:8080/",
          "height": 470
        }
      },
      "source": [
        "df.groupby(['floors','bedrooms','sqft_living']).max()"
      ],
      "execution_count": 33,
      "outputs": [
        {
          "output_type": "execute_result",
          "data": {
            "text/html": [
              "<div>\n",
              "<style scoped>\n",
              "    .dataframe tbody tr th:only-of-type {\n",
              "        vertical-align: middle;\n",
              "    }\n",
              "\n",
              "    .dataframe tbody tr th {\n",
              "        vertical-align: top;\n",
              "    }\n",
              "\n",
              "    .dataframe thead th {\n",
              "        text-align: right;\n",
              "    }\n",
              "</style>\n",
              "<table border=\"1\" class=\"dataframe\">\n",
              "  <thead>\n",
              "    <tr style=\"text-align: right;\">\n",
              "      <th></th>\n",
              "      <th></th>\n",
              "      <th></th>\n",
              "      <th>id</th>\n",
              "      <th>price</th>\n",
              "      <th>bathrooms</th>\n",
              "      <th>sqft_lot</th>\n",
              "      <th>waterfront</th>\n",
              "      <th>view</th>\n",
              "      <th>condition</th>\n",
              "      <th>grade</th>\n",
              "      <th>sqft_above</th>\n",
              "      <th>sqft_basement</th>\n",
              "      <th>yr_built</th>\n",
              "      <th>yr_renovated</th>\n",
              "      <th>zipcode</th>\n",
              "      <th>lat</th>\n",
              "      <th>long</th>\n",
              "      <th>sqft_living15</th>\n",
              "      <th>sqft_lot15</th>\n",
              "    </tr>\n",
              "    <tr>\n",
              "      <th>floors</th>\n",
              "      <th>bedrooms</th>\n",
              "      <th>sqft_living</th>\n",
              "      <th></th>\n",
              "      <th></th>\n",
              "      <th></th>\n",
              "      <th></th>\n",
              "      <th></th>\n",
              "      <th></th>\n",
              "      <th></th>\n",
              "      <th></th>\n",
              "      <th></th>\n",
              "      <th></th>\n",
              "      <th></th>\n",
              "      <th></th>\n",
              "      <th></th>\n",
              "      <th></th>\n",
              "      <th></th>\n",
              "      <th></th>\n",
              "      <th></th>\n",
              "    </tr>\n",
              "  </thead>\n",
              "  <tbody>\n",
              "    <tr>\n",
              "      <th rowspan=\"5\" valign=\"top\">1.0</th>\n",
              "      <th rowspan=\"4\" valign=\"top\">0</th>\n",
              "      <th>290</th>\n",
              "      <td>3980300371</td>\n",
              "      <td>142000.0</td>\n",
              "      <td>0.00</td>\n",
              "      <td>20875</td>\n",
              "      <td>0</td>\n",
              "      <td>0</td>\n",
              "      <td>1</td>\n",
              "      <td>1</td>\n",
              "      <td>290</td>\n",
              "      <td>0</td>\n",
              "      <td>1963</td>\n",
              "      <td>0</td>\n",
              "      <td>98024</td>\n",
              "      <td>47.5308</td>\n",
              "      <td>-121.888</td>\n",
              "      <td>1620</td>\n",
              "      <td>22850</td>\n",
              "    </tr>\n",
              "    <tr>\n",
              "      <th>384</th>\n",
              "      <td>1222029077</td>\n",
              "      <td>265000.0</td>\n",
              "      <td>0.75</td>\n",
              "      <td>213444</td>\n",
              "      <td>0</td>\n",
              "      <td>0</td>\n",
              "      <td>3</td>\n",
              "      <td>4</td>\n",
              "      <td>384</td>\n",
              "      <td>0</td>\n",
              "      <td>2003</td>\n",
              "      <td>0</td>\n",
              "      <td>98070</td>\n",
              "      <td>47.4177</td>\n",
              "      <td>-122.491</td>\n",
              "      <td>1920</td>\n",
              "      <td>224341</td>\n",
              "    </tr>\n",
              "    <tr>\n",
              "      <th>390</th>\n",
              "      <td>6896300380</td>\n",
              "      <td>228000.0</td>\n",
              "      <td>1.00</td>\n",
              "      <td>5900</td>\n",
              "      <td>0</td>\n",
              "      <td>0</td>\n",
              "      <td>2</td>\n",
              "      <td>4</td>\n",
              "      <td>390</td>\n",
              "      <td>0</td>\n",
              "      <td>1953</td>\n",
              "      <td>0</td>\n",
              "      <td>98118</td>\n",
              "      <td>47.5260</td>\n",
              "      <td>-122.261</td>\n",
              "      <td>2170</td>\n",
              "      <td>6000</td>\n",
              "    </tr>\n",
              "    <tr>\n",
              "      <th>844</th>\n",
              "      <td>9543000205</td>\n",
              "      <td>139950.0</td>\n",
              "      <td>0.00</td>\n",
              "      <td>4269</td>\n",
              "      <td>0</td>\n",
              "      <td>0</td>\n",
              "      <td>4</td>\n",
              "      <td>7</td>\n",
              "      <td>844</td>\n",
              "      <td>0</td>\n",
              "      <td>1913</td>\n",
              "      <td>0</td>\n",
              "      <td>98001</td>\n",
              "      <td>47.2781</td>\n",
              "      <td>-122.250</td>\n",
              "      <td>1380</td>\n",
              "      <td>9600</td>\n",
              "    </tr>\n",
              "    <tr>\n",
              "      <th>1</th>\n",
              "      <th>370</th>\n",
              "      <td>2856101479</td>\n",
              "      <td>276000.0</td>\n",
              "      <td>0.75</td>\n",
              "      <td>1801</td>\n",
              "      <td>0</td>\n",
              "      <td>0</td>\n",
              "      <td>5</td>\n",
              "      <td>5</td>\n",
              "      <td>370</td>\n",
              "      <td>0</td>\n",
              "      <td>1923</td>\n",
              "      <td>0</td>\n",
              "      <td>98117</td>\n",
              "      <td>47.6778</td>\n",
              "      <td>-122.389</td>\n",
              "      <td>1340</td>\n",
              "      <td>5000</td>\n",
              "    </tr>\n",
              "    <tr>\n",
              "      <th>...</th>\n",
              "      <th>...</th>\n",
              "      <th>...</th>\n",
              "      <td>...</td>\n",
              "      <td>...</td>\n",
              "      <td>...</td>\n",
              "      <td>...</td>\n",
              "      <td>...</td>\n",
              "      <td>...</td>\n",
              "      <td>...</td>\n",
              "      <td>...</td>\n",
              "      <td>...</td>\n",
              "      <td>...</td>\n",
              "      <td>...</td>\n",
              "      <td>...</td>\n",
              "      <td>...</td>\n",
              "      <td>...</td>\n",
              "      <td>...</td>\n",
              "      <td>...</td>\n",
              "      <td>...</td>\n",
              "    </tr>\n",
              "    <tr>\n",
              "      <th rowspan=\"5\" valign=\"top\">3.5</th>\n",
              "      <th rowspan=\"4\" valign=\"top\">3</th>\n",
              "      <th>1400</th>\n",
              "      <td>1972200428</td>\n",
              "      <td>563500.0</td>\n",
              "      <td>2.50</td>\n",
              "      <td>1312</td>\n",
              "      <td>0</td>\n",
              "      <td>0</td>\n",
              "      <td>3</td>\n",
              "      <td>8</td>\n",
              "      <td>1400</td>\n",
              "      <td>0</td>\n",
              "      <td>2007</td>\n",
              "      <td>0</td>\n",
              "      <td>98103</td>\n",
              "      <td>47.6534</td>\n",
              "      <td>-122.355</td>\n",
              "      <td>1350</td>\n",
              "      <td>1312</td>\n",
              "    </tr>\n",
              "    <tr>\n",
              "      <th>1440</th>\n",
              "      <td>1972202010</td>\n",
              "      <td>435000.0</td>\n",
              "      <td>3.00</td>\n",
              "      <td>1350</td>\n",
              "      <td>0</td>\n",
              "      <td>2</td>\n",
              "      <td>3</td>\n",
              "      <td>8</td>\n",
              "      <td>1440</td>\n",
              "      <td>0</td>\n",
              "      <td>2005</td>\n",
              "      <td>0</td>\n",
              "      <td>98103</td>\n",
              "      <td>47.6525</td>\n",
              "      <td>-122.345</td>\n",
              "      <td>1440</td>\n",
              "      <td>1350</td>\n",
              "    </tr>\n",
              "    <tr>\n",
              "      <th>1730</th>\n",
              "      <td>8673400177</td>\n",
              "      <td>525000.0</td>\n",
              "      <td>3.00</td>\n",
              "      <td>1074</td>\n",
              "      <td>0</td>\n",
              "      <td>0</td>\n",
              "      <td>3</td>\n",
              "      <td>8</td>\n",
              "      <td>1730</td>\n",
              "      <td>0</td>\n",
              "      <td>2006</td>\n",
              "      <td>0</td>\n",
              "      <td>98107</td>\n",
              "      <td>47.6692</td>\n",
              "      <td>-122.392</td>\n",
              "      <td>1370</td>\n",
              "      <td>1185</td>\n",
              "    </tr>\n",
              "    <tr>\n",
              "      <th>1760</th>\n",
              "      <td>3180100023</td>\n",
              "      <td>544000.0</td>\n",
              "      <td>2.50</td>\n",
              "      <td>1755</td>\n",
              "      <td>0</td>\n",
              "      <td>0</td>\n",
              "      <td>3</td>\n",
              "      <td>8</td>\n",
              "      <td>1760</td>\n",
              "      <td>0</td>\n",
              "      <td>1998</td>\n",
              "      <td>0</td>\n",
              "      <td>98105</td>\n",
              "      <td>47.6688</td>\n",
              "      <td>-122.279</td>\n",
              "      <td>1700</td>\n",
              "      <td>1721</td>\n",
              "    </tr>\n",
              "    <tr>\n",
              "      <th>8</th>\n",
              "      <th>7710</th>\n",
              "      <td>1346300150</td>\n",
              "      <td>3300000.0</td>\n",
              "      <td>4.00</td>\n",
              "      <td>11750</td>\n",
              "      <td>0</td>\n",
              "      <td>0</td>\n",
              "      <td>5</td>\n",
              "      <td>12</td>\n",
              "      <td>6090</td>\n",
              "      <td>1620</td>\n",
              "      <td>1904</td>\n",
              "      <td>0</td>\n",
              "      <td>98112</td>\n",
              "      <td>47.6263</td>\n",
              "      <td>-122.314</td>\n",
              "      <td>4210</td>\n",
              "      <td>8325</td>\n",
              "    </tr>\n",
              "  </tbody>\n",
              "</table>\n",
              "<p>4164 rows × 17 columns</p>\n",
              "</div>"
            ],
            "text/plain": [
              "                                     id      price  ...  sqft_living15  sqft_lot15\n",
              "floors bedrooms sqft_living                         ...                           \n",
              "1.0    0        290          3980300371   142000.0  ...           1620       22850\n",
              "                384          1222029077   265000.0  ...           1920      224341\n",
              "                390          6896300380   228000.0  ...           2170        6000\n",
              "                844          9543000205   139950.0  ...           1380        9600\n",
              "       1        370          2856101479   276000.0  ...           1340        5000\n",
              "...                                 ...        ...  ...            ...         ...\n",
              "3.5    3        1400         1972200428   563500.0  ...           1350        1312\n",
              "                1440         1972202010   435000.0  ...           1440        1350\n",
              "                1730         8673400177   525000.0  ...           1370        1185\n",
              "                1760         3180100023   544000.0  ...           1700        1721\n",
              "       8        7710         1346300150  3300000.0  ...           4210        8325\n",
              "\n",
              "[4164 rows x 17 columns]"
            ]
          },
          "metadata": {
            "tags": []
          },
          "execution_count": 33
        }
      ]
    },
    {
      "cell_type": "code",
      "metadata": {
        "colab_type": "code",
        "id": "t2F1K0XYS6_Z",
        "outputId": "7ac29eb5-db7e-4aa3-cf9c-957c3a48b6fe",
        "colab": {
          "base_uri": "https://localhost:8080/",
          "height": 689
        }
      },
      "source": [
        "df.corr()"
      ],
      "execution_count": 34,
      "outputs": [
        {
          "output_type": "execute_result",
          "data": {
            "text/html": [
              "<div>\n",
              "<style scoped>\n",
              "    .dataframe tbody tr th:only-of-type {\n",
              "        vertical-align: middle;\n",
              "    }\n",
              "\n",
              "    .dataframe tbody tr th {\n",
              "        vertical-align: top;\n",
              "    }\n",
              "\n",
              "    .dataframe thead th {\n",
              "        text-align: right;\n",
              "    }\n",
              "</style>\n",
              "<table border=\"1\" class=\"dataframe\">\n",
              "  <thead>\n",
              "    <tr style=\"text-align: right;\">\n",
              "      <th></th>\n",
              "      <th>id</th>\n",
              "      <th>price</th>\n",
              "      <th>bedrooms</th>\n",
              "      <th>bathrooms</th>\n",
              "      <th>sqft_living</th>\n",
              "      <th>sqft_lot</th>\n",
              "      <th>floors</th>\n",
              "      <th>waterfront</th>\n",
              "      <th>view</th>\n",
              "      <th>condition</th>\n",
              "      <th>grade</th>\n",
              "      <th>sqft_above</th>\n",
              "      <th>sqft_basement</th>\n",
              "      <th>yr_built</th>\n",
              "      <th>yr_renovated</th>\n",
              "      <th>zipcode</th>\n",
              "      <th>lat</th>\n",
              "      <th>long</th>\n",
              "      <th>sqft_living15</th>\n",
              "      <th>sqft_lot15</th>\n",
              "    </tr>\n",
              "  </thead>\n",
              "  <tbody>\n",
              "    <tr>\n",
              "      <th>id</th>\n",
              "      <td>1.000000</td>\n",
              "      <td>-0.016800</td>\n",
              "      <td>0.002599</td>\n",
              "      <td>0.005009</td>\n",
              "      <td>-0.012238</td>\n",
              "      <td>-0.132103</td>\n",
              "      <td>0.018407</td>\n",
              "      <td>-0.002716</td>\n",
              "      <td>0.011968</td>\n",
              "      <td>-0.023508</td>\n",
              "      <td>0.008037</td>\n",
              "      <td>-0.010905</td>\n",
              "      <td>-0.004995</td>\n",
              "      <td>0.021028</td>\n",
              "      <td>-0.016477</td>\n",
              "      <td>-0.008017</td>\n",
              "      <td>-0.001799</td>\n",
              "      <td>0.020725</td>\n",
              "      <td>-0.002870</td>\n",
              "      <td>-0.138770</td>\n",
              "    </tr>\n",
              "    <tr>\n",
              "      <th>price</th>\n",
              "      <td>-0.016800</td>\n",
              "      <td>1.000000</td>\n",
              "      <td>0.315451</td>\n",
              "      <td>0.525155</td>\n",
              "      <td>0.702060</td>\n",
              "      <td>0.089663</td>\n",
              "      <td>0.256818</td>\n",
              "      <td>0.266334</td>\n",
              "      <td>0.397591</td>\n",
              "      <td>0.036376</td>\n",
              "      <td>0.667507</td>\n",
              "      <td>0.605596</td>\n",
              "      <td>0.323856</td>\n",
              "      <td>0.053990</td>\n",
              "      <td>0.126568</td>\n",
              "      <td>-0.053162</td>\n",
              "      <td>0.306920</td>\n",
              "      <td>0.021574</td>\n",
              "      <td>0.585416</td>\n",
              "      <td>0.082463</td>\n",
              "    </tr>\n",
              "    <tr>\n",
              "      <th>bedrooms</th>\n",
              "      <td>0.002599</td>\n",
              "      <td>0.315451</td>\n",
              "      <td>1.000000</td>\n",
              "      <td>0.529265</td>\n",
              "      <td>0.591475</td>\n",
              "      <td>0.032799</td>\n",
              "      <td>0.181124</td>\n",
              "      <td>-0.006612</td>\n",
              "      <td>0.081728</td>\n",
              "      <td>0.025375</td>\n",
              "      <td>0.366576</td>\n",
              "      <td>0.490638</td>\n",
              "      <td>0.309456</td>\n",
              "      <td>0.159368</td>\n",
              "      <td>0.019318</td>\n",
              "      <td>-0.157200</td>\n",
              "      <td>-0.010586</td>\n",
              "      <td>0.133883</td>\n",
              "      <td>0.402617</td>\n",
              "      <td>0.030379</td>\n",
              "    </tr>\n",
              "    <tr>\n",
              "      <th>bathrooms</th>\n",
              "      <td>0.005009</td>\n",
              "      <td>0.525155</td>\n",
              "      <td>0.529265</td>\n",
              "      <td>1.000000</td>\n",
              "      <td>0.754707</td>\n",
              "      <td>0.087756</td>\n",
              "      <td>0.500678</td>\n",
              "      <td>0.063749</td>\n",
              "      <td>0.188039</td>\n",
              "      <td>-0.124862</td>\n",
              "      <td>0.664993</td>\n",
              "      <td>0.685356</td>\n",
              "      <td>0.283877</td>\n",
              "      <td>0.505966</td>\n",
              "      <td>0.051015</td>\n",
              "      <td>-0.203787</td>\n",
              "      <td>0.024627</td>\n",
              "      <td>0.223038</td>\n",
              "      <td>0.568690</td>\n",
              "      <td>0.087201</td>\n",
              "    </tr>\n",
              "    <tr>\n",
              "      <th>sqft_living</th>\n",
              "      <td>-0.012238</td>\n",
              "      <td>0.702060</td>\n",
              "      <td>0.591475</td>\n",
              "      <td>0.754707</td>\n",
              "      <td>1.000000</td>\n",
              "      <td>0.172831</td>\n",
              "      <td>0.353946</td>\n",
              "      <td>0.103821</td>\n",
              "      <td>0.284665</td>\n",
              "      <td>-0.058735</td>\n",
              "      <td>0.762731</td>\n",
              "      <td>0.876605</td>\n",
              "      <td>0.435087</td>\n",
              "      <td>0.318137</td>\n",
              "      <td>0.055261</td>\n",
              "      <td>-0.199431</td>\n",
              "      <td>0.052535</td>\n",
              "      <td>0.240206</td>\n",
              "      <td>0.756417</td>\n",
              "      <td>0.183279</td>\n",
              "    </tr>\n",
              "    <tr>\n",
              "      <th>sqft_lot</th>\n",
              "      <td>-0.132103</td>\n",
              "      <td>0.089663</td>\n",
              "      <td>0.032799</td>\n",
              "      <td>0.087756</td>\n",
              "      <td>0.172831</td>\n",
              "      <td>1.000000</td>\n",
              "      <td>-0.005151</td>\n",
              "      <td>0.021597</td>\n",
              "      <td>0.074792</td>\n",
              "      <td>-0.008953</td>\n",
              "      <td>0.113663</td>\n",
              "      <td>0.183536</td>\n",
              "      <td>0.015263</td>\n",
              "      <td>0.053123</td>\n",
              "      <td>0.007709</td>\n",
              "      <td>-0.129644</td>\n",
              "      <td>-0.085670</td>\n",
              "      <td>0.229578</td>\n",
              "      <td>0.144626</td>\n",
              "      <td>0.718555</td>\n",
              "    </tr>\n",
              "    <tr>\n",
              "      <th>floors</th>\n",
              "      <td>0.018407</td>\n",
              "      <td>0.256818</td>\n",
              "      <td>0.181124</td>\n",
              "      <td>0.500678</td>\n",
              "      <td>0.353946</td>\n",
              "      <td>-0.005151</td>\n",
              "      <td>1.000000</td>\n",
              "      <td>0.023721</td>\n",
              "      <td>0.029193</td>\n",
              "      <td>-0.263727</td>\n",
              "      <td>0.458108</td>\n",
              "      <td>0.523846</td>\n",
              "      <td>-0.245621</td>\n",
              "      <td>0.489358</td>\n",
              "      <td>0.005964</td>\n",
              "      <td>-0.058911</td>\n",
              "      <td>0.049613</td>\n",
              "      <td>0.125235</td>\n",
              "      <td>0.279808</td>\n",
              "      <td>-0.011244</td>\n",
              "    </tr>\n",
              "    <tr>\n",
              "      <th>waterfront</th>\n",
              "      <td>-0.002716</td>\n",
              "      <td>0.266334</td>\n",
              "      <td>-0.006612</td>\n",
              "      <td>0.063749</td>\n",
              "      <td>0.103821</td>\n",
              "      <td>0.021597</td>\n",
              "      <td>0.023721</td>\n",
              "      <td>1.000000</td>\n",
              "      <td>0.402128</td>\n",
              "      <td>0.016664</td>\n",
              "      <td>0.082793</td>\n",
              "      <td>0.072083</td>\n",
              "      <td>0.080585</td>\n",
              "      <td>-0.026161</td>\n",
              "      <td>0.093015</td>\n",
              "      <td>0.030271</td>\n",
              "      <td>-0.014266</td>\n",
              "      <td>-0.041901</td>\n",
              "      <td>0.086473</td>\n",
              "      <td>0.030699</td>\n",
              "    </tr>\n",
              "    <tr>\n",
              "      <th>view</th>\n",
              "      <td>0.011968</td>\n",
              "      <td>0.397591</td>\n",
              "      <td>0.081728</td>\n",
              "      <td>0.188039</td>\n",
              "      <td>0.284665</td>\n",
              "      <td>0.074792</td>\n",
              "      <td>0.029193</td>\n",
              "      <td>0.402128</td>\n",
              "      <td>1.000000</td>\n",
              "      <td>0.045723</td>\n",
              "      <td>0.251429</td>\n",
              "      <td>0.167659</td>\n",
              "      <td>0.277059</td>\n",
              "      <td>-0.053031</td>\n",
              "      <td>0.102495</td>\n",
              "      <td>0.084856</td>\n",
              "      <td>0.005955</td>\n",
              "      <td>-0.078733</td>\n",
              "      <td>0.280362</td>\n",
              "      <td>0.072576</td>\n",
              "    </tr>\n",
              "    <tr>\n",
              "      <th>condition</th>\n",
              "      <td>-0.023508</td>\n",
              "      <td>0.036376</td>\n",
              "      <td>0.025375</td>\n",
              "      <td>-0.124862</td>\n",
              "      <td>-0.058735</td>\n",
              "      <td>-0.008953</td>\n",
              "      <td>-0.263727</td>\n",
              "      <td>0.016664</td>\n",
              "      <td>0.045723</td>\n",
              "      <td>1.000000</td>\n",
              "      <td>-0.144593</td>\n",
              "      <td>-0.158133</td>\n",
              "      <td>0.173989</td>\n",
              "      <td>-0.361241</td>\n",
              "      <td>-0.061091</td>\n",
              "      <td>0.002846</td>\n",
              "      <td>-0.015108</td>\n",
              "      <td>-0.106447</td>\n",
              "      <td>-0.092790</td>\n",
              "      <td>-0.003410</td>\n",
              "    </tr>\n",
              "    <tr>\n",
              "      <th>grade</th>\n",
              "      <td>0.008037</td>\n",
              "      <td>0.667507</td>\n",
              "      <td>0.366576</td>\n",
              "      <td>0.664993</td>\n",
              "      <td>0.762731</td>\n",
              "      <td>0.113663</td>\n",
              "      <td>0.458108</td>\n",
              "      <td>0.082793</td>\n",
              "      <td>0.251429</td>\n",
              "      <td>-0.144593</td>\n",
              "      <td>1.000000</td>\n",
              "      <td>0.755911</td>\n",
              "      <td>0.168514</td>\n",
              "      <td>0.446958</td>\n",
              "      <td>0.014325</td>\n",
              "      <td>-0.184718</td>\n",
              "      <td>0.114115</td>\n",
              "      <td>0.198305</td>\n",
              "      <td>0.713210</td>\n",
              "      <td>0.119277</td>\n",
              "    </tr>\n",
              "    <tr>\n",
              "      <th>sqft_above</th>\n",
              "      <td>-0.010905</td>\n",
              "      <td>0.605596</td>\n",
              "      <td>0.490638</td>\n",
              "      <td>0.685356</td>\n",
              "      <td>0.876605</td>\n",
              "      <td>0.183536</td>\n",
              "      <td>0.523846</td>\n",
              "      <td>0.072083</td>\n",
              "      <td>0.167659</td>\n",
              "      <td>-0.158133</td>\n",
              "      <td>0.755911</td>\n",
              "      <td>1.000000</td>\n",
              "      <td>-0.051877</td>\n",
              "      <td>0.423927</td>\n",
              "      <td>0.023173</td>\n",
              "      <td>-0.261122</td>\n",
              "      <td>-0.000792</td>\n",
              "      <td>0.343756</td>\n",
              "      <td>0.731859</td>\n",
              "      <td>0.194061</td>\n",
              "    </tr>\n",
              "    <tr>\n",
              "      <th>sqft_basement</th>\n",
              "      <td>-0.004995</td>\n",
              "      <td>0.323856</td>\n",
              "      <td>0.309456</td>\n",
              "      <td>0.283877</td>\n",
              "      <td>0.435087</td>\n",
              "      <td>0.015263</td>\n",
              "      <td>-0.245621</td>\n",
              "      <td>0.080585</td>\n",
              "      <td>0.277059</td>\n",
              "      <td>0.173989</td>\n",
              "      <td>0.168514</td>\n",
              "      <td>-0.051877</td>\n",
              "      <td>1.000000</td>\n",
              "      <td>-0.132978</td>\n",
              "      <td>0.071323</td>\n",
              "      <td>0.074705</td>\n",
              "      <td>0.110507</td>\n",
              "      <td>-0.144701</td>\n",
              "      <td>0.200414</td>\n",
              "      <td>0.017253</td>\n",
              "    </tr>\n",
              "    <tr>\n",
              "      <th>yr_built</th>\n",
              "      <td>0.021028</td>\n",
              "      <td>0.053990</td>\n",
              "      <td>0.159368</td>\n",
              "      <td>0.505966</td>\n",
              "      <td>0.318137</td>\n",
              "      <td>0.053123</td>\n",
              "      <td>0.489358</td>\n",
              "      <td>-0.026161</td>\n",
              "      <td>-0.053031</td>\n",
              "      <td>-0.361241</td>\n",
              "      <td>0.446958</td>\n",
              "      <td>0.423927</td>\n",
              "      <td>-0.132978</td>\n",
              "      <td>1.000000</td>\n",
              "      <td>-0.224595</td>\n",
              "      <td>-0.346736</td>\n",
              "      <td>-0.148046</td>\n",
              "      <td>0.409414</td>\n",
              "      <td>0.326342</td>\n",
              "      <td>0.071029</td>\n",
              "    </tr>\n",
              "    <tr>\n",
              "      <th>yr_renovated</th>\n",
              "      <td>-0.016477</td>\n",
              "      <td>0.126568</td>\n",
              "      <td>0.019318</td>\n",
              "      <td>0.051015</td>\n",
              "      <td>0.055261</td>\n",
              "      <td>0.007709</td>\n",
              "      <td>0.005964</td>\n",
              "      <td>0.093015</td>\n",
              "      <td>0.102495</td>\n",
              "      <td>-0.061091</td>\n",
              "      <td>0.014325</td>\n",
              "      <td>0.023173</td>\n",
              "      <td>0.071323</td>\n",
              "      <td>-0.224595</td>\n",
              "      <td>1.000000</td>\n",
              "      <td>0.064424</td>\n",
              "      <td>0.029153</td>\n",
              "      <td>-0.068826</td>\n",
              "      <td>-0.003020</td>\n",
              "      <td>0.007816</td>\n",
              "    </tr>\n",
              "    <tr>\n",
              "      <th>zipcode</th>\n",
              "      <td>-0.008017</td>\n",
              "      <td>-0.053162</td>\n",
              "      <td>-0.157200</td>\n",
              "      <td>-0.203787</td>\n",
              "      <td>-0.199431</td>\n",
              "      <td>-0.129644</td>\n",
              "      <td>-0.058911</td>\n",
              "      <td>0.030271</td>\n",
              "      <td>0.084856</td>\n",
              "      <td>0.002846</td>\n",
              "      <td>-0.184718</td>\n",
              "      <td>-0.261122</td>\n",
              "      <td>0.074705</td>\n",
              "      <td>-0.346736</td>\n",
              "      <td>0.064424</td>\n",
              "      <td>1.000000</td>\n",
              "      <td>0.267067</td>\n",
              "      <td>-0.564060</td>\n",
              "      <td>-0.279019</td>\n",
              "      <td>-0.147288</td>\n",
              "    </tr>\n",
              "    <tr>\n",
              "      <th>lat</th>\n",
              "      <td>-0.001799</td>\n",
              "      <td>0.306920</td>\n",
              "      <td>-0.010586</td>\n",
              "      <td>0.024627</td>\n",
              "      <td>0.052535</td>\n",
              "      <td>-0.085670</td>\n",
              "      <td>0.049613</td>\n",
              "      <td>-0.014266</td>\n",
              "      <td>0.005955</td>\n",
              "      <td>-0.015108</td>\n",
              "      <td>0.114115</td>\n",
              "      <td>-0.000792</td>\n",
              "      <td>0.110507</td>\n",
              "      <td>-0.148046</td>\n",
              "      <td>0.029153</td>\n",
              "      <td>0.267067</td>\n",
              "      <td>1.000000</td>\n",
              "      <td>-0.135547</td>\n",
              "      <td>0.048862</td>\n",
              "      <td>-0.086416</td>\n",
              "    </tr>\n",
              "    <tr>\n",
              "      <th>long</th>\n",
              "      <td>0.020725</td>\n",
              "      <td>0.021574</td>\n",
              "      <td>0.133883</td>\n",
              "      <td>0.223038</td>\n",
              "      <td>0.240206</td>\n",
              "      <td>0.229578</td>\n",
              "      <td>0.125235</td>\n",
              "      <td>-0.041901</td>\n",
              "      <td>-0.078733</td>\n",
              "      <td>-0.106447</td>\n",
              "      <td>0.198305</td>\n",
              "      <td>0.343756</td>\n",
              "      <td>-0.144701</td>\n",
              "      <td>0.409414</td>\n",
              "      <td>-0.068826</td>\n",
              "      <td>-0.564060</td>\n",
              "      <td>-0.135547</td>\n",
              "      <td>1.000000</td>\n",
              "      <td>0.334554</td>\n",
              "      <td>0.254492</td>\n",
              "    </tr>\n",
              "    <tr>\n",
              "      <th>sqft_living15</th>\n",
              "      <td>-0.002870</td>\n",
              "      <td>0.585416</td>\n",
              "      <td>0.402617</td>\n",
              "      <td>0.568690</td>\n",
              "      <td>0.756417</td>\n",
              "      <td>0.144626</td>\n",
              "      <td>0.279808</td>\n",
              "      <td>0.086473</td>\n",
              "      <td>0.280362</td>\n",
              "      <td>-0.092790</td>\n",
              "      <td>0.713210</td>\n",
              "      <td>0.731859</td>\n",
              "      <td>0.200414</td>\n",
              "      <td>0.326342</td>\n",
              "      <td>-0.003020</td>\n",
              "      <td>-0.279019</td>\n",
              "      <td>0.048862</td>\n",
              "      <td>0.334554</td>\n",
              "      <td>1.000000</td>\n",
              "      <td>0.183188</td>\n",
              "    </tr>\n",
              "    <tr>\n",
              "      <th>sqft_lot15</th>\n",
              "      <td>-0.138770</td>\n",
              "      <td>0.082463</td>\n",
              "      <td>0.030379</td>\n",
              "      <td>0.087201</td>\n",
              "      <td>0.183279</td>\n",
              "      <td>0.718555</td>\n",
              "      <td>-0.011244</td>\n",
              "      <td>0.030699</td>\n",
              "      <td>0.072576</td>\n",
              "      <td>-0.003410</td>\n",
              "      <td>0.119277</td>\n",
              "      <td>0.194061</td>\n",
              "      <td>0.017253</td>\n",
              "      <td>0.071029</td>\n",
              "      <td>0.007816</td>\n",
              "      <td>-0.147288</td>\n",
              "      <td>-0.086416</td>\n",
              "      <td>0.254492</td>\n",
              "      <td>0.183188</td>\n",
              "      <td>1.000000</td>\n",
              "    </tr>\n",
              "  </tbody>\n",
              "</table>\n",
              "</div>"
            ],
            "text/plain": [
              "                     id     price  ...  sqft_living15  sqft_lot15\n",
              "id             1.000000 -0.016800  ...      -0.002870   -0.138770\n",
              "price         -0.016800  1.000000  ...       0.585416    0.082463\n",
              "bedrooms       0.002599  0.315451  ...       0.402617    0.030379\n",
              "bathrooms      0.005009  0.525155  ...       0.568690    0.087201\n",
              "sqft_living   -0.012238  0.702060  ...       0.756417    0.183279\n",
              "sqft_lot      -0.132103  0.089663  ...       0.144626    0.718555\n",
              "floors         0.018407  0.256818  ...       0.279808   -0.011244\n",
              "waterfront    -0.002716  0.266334  ...       0.086473    0.030699\n",
              "view           0.011968  0.397591  ...       0.280362    0.072576\n",
              "condition     -0.023508  0.036376  ...      -0.092790   -0.003410\n",
              "grade          0.008037  0.667507  ...       0.713210    0.119277\n",
              "sqft_above    -0.010905  0.605596  ...       0.731859    0.194061\n",
              "sqft_basement -0.004995  0.323856  ...       0.200414    0.017253\n",
              "yr_built       0.021028  0.053990  ...       0.326342    0.071029\n",
              "yr_renovated  -0.016477  0.126568  ...      -0.003020    0.007816\n",
              "zipcode       -0.008017 -0.053162  ...      -0.279019   -0.147288\n",
              "lat           -0.001799  0.306920  ...       0.048862   -0.086416\n",
              "long           0.020725  0.021574  ...       0.334554    0.254492\n",
              "sqft_living15 -0.002870  0.585416  ...       1.000000    0.183188\n",
              "sqft_lot15    -0.138770  0.082463  ...       0.183188    1.000000\n",
              "\n",
              "[20 rows x 20 columns]"
            ]
          },
          "metadata": {
            "tags": []
          },
          "execution_count": 34
        }
      ]
    },
    {
      "cell_type": "code",
      "metadata": {
        "colab_type": "code",
        "id": "lyJ6dF0lW-Pk",
        "outputId": "d31dba13-444e-48a3-c29e-aa34ba6ded20",
        "colab": {
          "base_uri": "https://localhost:8080/",
          "height": 204
        }
      },
      "source": [
        "house_df = df.drop([\"id\",\"zipcode\",\"lat\",\"long\",\"sqft_living\",\"sqft_lot\",\"sqft_above\"],axis=1)\n",
        "house_df.head()"
      ],
      "execution_count": 35,
      "outputs": [
        {
          "output_type": "execute_result",
          "data": {
            "text/html": [
              "<div>\n",
              "<style scoped>\n",
              "    .dataframe tbody tr th:only-of-type {\n",
              "        vertical-align: middle;\n",
              "    }\n",
              "\n",
              "    .dataframe tbody tr th {\n",
              "        vertical-align: top;\n",
              "    }\n",
              "\n",
              "    .dataframe thead th {\n",
              "        text-align: right;\n",
              "    }\n",
              "</style>\n",
              "<table border=\"1\" class=\"dataframe\">\n",
              "  <thead>\n",
              "    <tr style=\"text-align: right;\">\n",
              "      <th></th>\n",
              "      <th>price</th>\n",
              "      <th>bedrooms</th>\n",
              "      <th>bathrooms</th>\n",
              "      <th>floors</th>\n",
              "      <th>waterfront</th>\n",
              "      <th>view</th>\n",
              "      <th>condition</th>\n",
              "      <th>grade</th>\n",
              "      <th>sqft_basement</th>\n",
              "      <th>yr_built</th>\n",
              "      <th>yr_renovated</th>\n",
              "      <th>sqft_living15</th>\n",
              "      <th>sqft_lot15</th>\n",
              "    </tr>\n",
              "  </thead>\n",
              "  <tbody>\n",
              "    <tr>\n",
              "      <th>0</th>\n",
              "      <td>221900.0</td>\n",
              "      <td>3</td>\n",
              "      <td>1.00</td>\n",
              "      <td>1.0</td>\n",
              "      <td>0</td>\n",
              "      <td>0</td>\n",
              "      <td>3</td>\n",
              "      <td>7</td>\n",
              "      <td>0</td>\n",
              "      <td>1955</td>\n",
              "      <td>0</td>\n",
              "      <td>1340</td>\n",
              "      <td>5650</td>\n",
              "    </tr>\n",
              "    <tr>\n",
              "      <th>1</th>\n",
              "      <td>538000.0</td>\n",
              "      <td>3</td>\n",
              "      <td>2.25</td>\n",
              "      <td>2.0</td>\n",
              "      <td>0</td>\n",
              "      <td>0</td>\n",
              "      <td>3</td>\n",
              "      <td>7</td>\n",
              "      <td>400</td>\n",
              "      <td>1951</td>\n",
              "      <td>1991</td>\n",
              "      <td>1690</td>\n",
              "      <td>7639</td>\n",
              "    </tr>\n",
              "    <tr>\n",
              "      <th>2</th>\n",
              "      <td>180000.0</td>\n",
              "      <td>2</td>\n",
              "      <td>1.00</td>\n",
              "      <td>1.0</td>\n",
              "      <td>0</td>\n",
              "      <td>0</td>\n",
              "      <td>3</td>\n",
              "      <td>6</td>\n",
              "      <td>0</td>\n",
              "      <td>1933</td>\n",
              "      <td>0</td>\n",
              "      <td>2720</td>\n",
              "      <td>8062</td>\n",
              "    </tr>\n",
              "    <tr>\n",
              "      <th>3</th>\n",
              "      <td>604000.0</td>\n",
              "      <td>4</td>\n",
              "      <td>3.00</td>\n",
              "      <td>1.0</td>\n",
              "      <td>0</td>\n",
              "      <td>0</td>\n",
              "      <td>5</td>\n",
              "      <td>7</td>\n",
              "      <td>910</td>\n",
              "      <td>1965</td>\n",
              "      <td>0</td>\n",
              "      <td>1360</td>\n",
              "      <td>5000</td>\n",
              "    </tr>\n",
              "    <tr>\n",
              "      <th>4</th>\n",
              "      <td>510000.0</td>\n",
              "      <td>3</td>\n",
              "      <td>2.00</td>\n",
              "      <td>1.0</td>\n",
              "      <td>0</td>\n",
              "      <td>0</td>\n",
              "      <td>3</td>\n",
              "      <td>8</td>\n",
              "      <td>0</td>\n",
              "      <td>1987</td>\n",
              "      <td>0</td>\n",
              "      <td>1800</td>\n",
              "      <td>7503</td>\n",
              "    </tr>\n",
              "  </tbody>\n",
              "</table>\n",
              "</div>"
            ],
            "text/plain": [
              "      price  bedrooms  bathrooms  ...  yr_renovated  sqft_living15  sqft_lot15\n",
              "0  221900.0         3       1.00  ...             0           1340        5650\n",
              "1  538000.0         3       2.25  ...          1991           1690        7639\n",
              "2  180000.0         2       1.00  ...             0           2720        8062\n",
              "3  604000.0         4       3.00  ...             0           1360        5000\n",
              "4  510000.0         3       2.00  ...             0           1800        7503\n",
              "\n",
              "[5 rows x 13 columns]"
            ]
          },
          "metadata": {
            "tags": []
          },
          "execution_count": 35
        }
      ]
    },
    {
      "cell_type": "markdown",
      "metadata": {
        "colab_type": "text",
        "id": "GHv_n9ESYomY"
      },
      "source": [
        "##**Detecting Multicolinearity**"
      ]
    },
    {
      "cell_type": "code",
      "metadata": {
        "colab_type": "code",
        "id": "B7B7NyOMXKcW",
        "outputId": "cbe0541c-75d9-4bdf-c62d-024a1ea9a465",
        "colab": {
          "base_uri": "https://localhost:8080/",
          "height": 472
        }
      },
      "source": [
        "# Find the correlation of the variables\n",
        "correlation=house_df.corr()\n",
        "correlation"
      ],
      "execution_count": 36,
      "outputs": [
        {
          "output_type": "execute_result",
          "data": {
            "text/html": [
              "<div>\n",
              "<style scoped>\n",
              "    .dataframe tbody tr th:only-of-type {\n",
              "        vertical-align: middle;\n",
              "    }\n",
              "\n",
              "    .dataframe tbody tr th {\n",
              "        vertical-align: top;\n",
              "    }\n",
              "\n",
              "    .dataframe thead th {\n",
              "        text-align: right;\n",
              "    }\n",
              "</style>\n",
              "<table border=\"1\" class=\"dataframe\">\n",
              "  <thead>\n",
              "    <tr style=\"text-align: right;\">\n",
              "      <th></th>\n",
              "      <th>price</th>\n",
              "      <th>bedrooms</th>\n",
              "      <th>bathrooms</th>\n",
              "      <th>floors</th>\n",
              "      <th>waterfront</th>\n",
              "      <th>view</th>\n",
              "      <th>condition</th>\n",
              "      <th>grade</th>\n",
              "      <th>sqft_basement</th>\n",
              "      <th>yr_built</th>\n",
              "      <th>yr_renovated</th>\n",
              "      <th>sqft_living15</th>\n",
              "      <th>sqft_lot15</th>\n",
              "    </tr>\n",
              "  </thead>\n",
              "  <tbody>\n",
              "    <tr>\n",
              "      <th>price</th>\n",
              "      <td>1.000000</td>\n",
              "      <td>0.315451</td>\n",
              "      <td>0.525155</td>\n",
              "      <td>0.256818</td>\n",
              "      <td>0.266334</td>\n",
              "      <td>0.397591</td>\n",
              "      <td>0.036376</td>\n",
              "      <td>0.667507</td>\n",
              "      <td>0.323856</td>\n",
              "      <td>0.053990</td>\n",
              "      <td>0.126568</td>\n",
              "      <td>0.585416</td>\n",
              "      <td>0.082463</td>\n",
              "    </tr>\n",
              "    <tr>\n",
              "      <th>bedrooms</th>\n",
              "      <td>0.315451</td>\n",
              "      <td>1.000000</td>\n",
              "      <td>0.529265</td>\n",
              "      <td>0.181124</td>\n",
              "      <td>-0.006612</td>\n",
              "      <td>0.081728</td>\n",
              "      <td>0.025375</td>\n",
              "      <td>0.366576</td>\n",
              "      <td>0.309456</td>\n",
              "      <td>0.159368</td>\n",
              "      <td>0.019318</td>\n",
              "      <td>0.402617</td>\n",
              "      <td>0.030379</td>\n",
              "    </tr>\n",
              "    <tr>\n",
              "      <th>bathrooms</th>\n",
              "      <td>0.525155</td>\n",
              "      <td>0.529265</td>\n",
              "      <td>1.000000</td>\n",
              "      <td>0.500678</td>\n",
              "      <td>0.063749</td>\n",
              "      <td>0.188039</td>\n",
              "      <td>-0.124862</td>\n",
              "      <td>0.664993</td>\n",
              "      <td>0.283877</td>\n",
              "      <td>0.505966</td>\n",
              "      <td>0.051015</td>\n",
              "      <td>0.568690</td>\n",
              "      <td>0.087201</td>\n",
              "    </tr>\n",
              "    <tr>\n",
              "      <th>floors</th>\n",
              "      <td>0.256818</td>\n",
              "      <td>0.181124</td>\n",
              "      <td>0.500678</td>\n",
              "      <td>1.000000</td>\n",
              "      <td>0.023721</td>\n",
              "      <td>0.029193</td>\n",
              "      <td>-0.263727</td>\n",
              "      <td>0.458108</td>\n",
              "      <td>-0.245621</td>\n",
              "      <td>0.489358</td>\n",
              "      <td>0.005964</td>\n",
              "      <td>0.279808</td>\n",
              "      <td>-0.011244</td>\n",
              "    </tr>\n",
              "    <tr>\n",
              "      <th>waterfront</th>\n",
              "      <td>0.266334</td>\n",
              "      <td>-0.006612</td>\n",
              "      <td>0.063749</td>\n",
              "      <td>0.023721</td>\n",
              "      <td>1.000000</td>\n",
              "      <td>0.402128</td>\n",
              "      <td>0.016664</td>\n",
              "      <td>0.082793</td>\n",
              "      <td>0.080585</td>\n",
              "      <td>-0.026161</td>\n",
              "      <td>0.093015</td>\n",
              "      <td>0.086473</td>\n",
              "      <td>0.030699</td>\n",
              "    </tr>\n",
              "    <tr>\n",
              "      <th>view</th>\n",
              "      <td>0.397591</td>\n",
              "      <td>0.081728</td>\n",
              "      <td>0.188039</td>\n",
              "      <td>0.029193</td>\n",
              "      <td>0.402128</td>\n",
              "      <td>1.000000</td>\n",
              "      <td>0.045723</td>\n",
              "      <td>0.251429</td>\n",
              "      <td>0.277059</td>\n",
              "      <td>-0.053031</td>\n",
              "      <td>0.102495</td>\n",
              "      <td>0.280362</td>\n",
              "      <td>0.072576</td>\n",
              "    </tr>\n",
              "    <tr>\n",
              "      <th>condition</th>\n",
              "      <td>0.036376</td>\n",
              "      <td>0.025375</td>\n",
              "      <td>-0.124862</td>\n",
              "      <td>-0.263727</td>\n",
              "      <td>0.016664</td>\n",
              "      <td>0.045723</td>\n",
              "      <td>1.000000</td>\n",
              "      <td>-0.144593</td>\n",
              "      <td>0.173989</td>\n",
              "      <td>-0.361241</td>\n",
              "      <td>-0.061091</td>\n",
              "      <td>-0.092790</td>\n",
              "      <td>-0.003410</td>\n",
              "    </tr>\n",
              "    <tr>\n",
              "      <th>grade</th>\n",
              "      <td>0.667507</td>\n",
              "      <td>0.366576</td>\n",
              "      <td>0.664993</td>\n",
              "      <td>0.458108</td>\n",
              "      <td>0.082793</td>\n",
              "      <td>0.251429</td>\n",
              "      <td>-0.144593</td>\n",
              "      <td>1.000000</td>\n",
              "      <td>0.168514</td>\n",
              "      <td>0.446958</td>\n",
              "      <td>0.014325</td>\n",
              "      <td>0.713210</td>\n",
              "      <td>0.119277</td>\n",
              "    </tr>\n",
              "    <tr>\n",
              "      <th>sqft_basement</th>\n",
              "      <td>0.323856</td>\n",
              "      <td>0.309456</td>\n",
              "      <td>0.283877</td>\n",
              "      <td>-0.245621</td>\n",
              "      <td>0.080585</td>\n",
              "      <td>0.277059</td>\n",
              "      <td>0.173989</td>\n",
              "      <td>0.168514</td>\n",
              "      <td>1.000000</td>\n",
              "      <td>-0.132978</td>\n",
              "      <td>0.071323</td>\n",
              "      <td>0.200414</td>\n",
              "      <td>0.017253</td>\n",
              "    </tr>\n",
              "    <tr>\n",
              "      <th>yr_built</th>\n",
              "      <td>0.053990</td>\n",
              "      <td>0.159368</td>\n",
              "      <td>0.505966</td>\n",
              "      <td>0.489358</td>\n",
              "      <td>-0.026161</td>\n",
              "      <td>-0.053031</td>\n",
              "      <td>-0.361241</td>\n",
              "      <td>0.446958</td>\n",
              "      <td>-0.132978</td>\n",
              "      <td>1.000000</td>\n",
              "      <td>-0.224595</td>\n",
              "      <td>0.326342</td>\n",
              "      <td>0.071029</td>\n",
              "    </tr>\n",
              "    <tr>\n",
              "      <th>yr_renovated</th>\n",
              "      <td>0.126568</td>\n",
              "      <td>0.019318</td>\n",
              "      <td>0.051015</td>\n",
              "      <td>0.005964</td>\n",
              "      <td>0.093015</td>\n",
              "      <td>0.102495</td>\n",
              "      <td>-0.061091</td>\n",
              "      <td>0.014325</td>\n",
              "      <td>0.071323</td>\n",
              "      <td>-0.224595</td>\n",
              "      <td>1.000000</td>\n",
              "      <td>-0.003020</td>\n",
              "      <td>0.007816</td>\n",
              "    </tr>\n",
              "    <tr>\n",
              "      <th>sqft_living15</th>\n",
              "      <td>0.585416</td>\n",
              "      <td>0.402617</td>\n",
              "      <td>0.568690</td>\n",
              "      <td>0.279808</td>\n",
              "      <td>0.086473</td>\n",
              "      <td>0.280362</td>\n",
              "      <td>-0.092790</td>\n",
              "      <td>0.713210</td>\n",
              "      <td>0.200414</td>\n",
              "      <td>0.326342</td>\n",
              "      <td>-0.003020</td>\n",
              "      <td>1.000000</td>\n",
              "      <td>0.183188</td>\n",
              "    </tr>\n",
              "    <tr>\n",
              "      <th>sqft_lot15</th>\n",
              "      <td>0.082463</td>\n",
              "      <td>0.030379</td>\n",
              "      <td>0.087201</td>\n",
              "      <td>-0.011244</td>\n",
              "      <td>0.030699</td>\n",
              "      <td>0.072576</td>\n",
              "      <td>-0.003410</td>\n",
              "      <td>0.119277</td>\n",
              "      <td>0.017253</td>\n",
              "      <td>0.071029</td>\n",
              "      <td>0.007816</td>\n",
              "      <td>0.183188</td>\n",
              "      <td>1.000000</td>\n",
              "    </tr>\n",
              "  </tbody>\n",
              "</table>\n",
              "</div>"
            ],
            "text/plain": [
              "                  price  bedrooms  ...  sqft_living15  sqft_lot15\n",
              "price          1.000000  0.315451  ...       0.585416    0.082463\n",
              "bedrooms       0.315451  1.000000  ...       0.402617    0.030379\n",
              "bathrooms      0.525155  0.529265  ...       0.568690    0.087201\n",
              "floors         0.256818  0.181124  ...       0.279808   -0.011244\n",
              "waterfront     0.266334 -0.006612  ...       0.086473    0.030699\n",
              "view           0.397591  0.081728  ...       0.280362    0.072576\n",
              "condition      0.036376  0.025375  ...      -0.092790   -0.003410\n",
              "grade          0.667507  0.366576  ...       0.713210    0.119277\n",
              "sqft_basement  0.323856  0.309456  ...       0.200414    0.017253\n",
              "yr_built       0.053990  0.159368  ...       0.326342    0.071029\n",
              "yr_renovated   0.126568  0.019318  ...      -0.003020    0.007816\n",
              "sqft_living15  0.585416  0.402617  ...       1.000000    0.183188\n",
              "sqft_lot15     0.082463  0.030379  ...       0.183188    1.000000\n",
              "\n",
              "[13 rows x 13 columns]"
            ]
          },
          "metadata": {
            "tags": []
          },
          "execution_count": 36
        }
      ]
    },
    {
      "cell_type": "code",
      "metadata": {
        "colab_type": "code",
        "id": "HeizAz4HXYAv",
        "outputId": "5d8ce1bb-ab10-4c0d-cf8f-76bbaba1828c",
        "colab": {
          "base_uri": "https://localhost:8080/",
          "height": 472
        }
      },
      "source": [
        "# use this correlations above to compute VIF(Variance Inflation Factor)\n",
        "# create a new data frame with the inverse of the matrix above\n",
        "\n",
        "#Compute the variation inflation factor\n",
        "vif = pd.DataFrame(np.linalg.inv(correlation.values), index  = correlation.index, columns = correlation.columns)\n",
        "vif"
      ],
      "execution_count": 37,
      "outputs": [
        {
          "output_type": "execute_result",
          "data": {
            "text/html": [
              "<div>\n",
              "<style scoped>\n",
              "    .dataframe tbody tr th:only-of-type {\n",
              "        vertical-align: middle;\n",
              "    }\n",
              "\n",
              "    .dataframe tbody tr th {\n",
              "        vertical-align: top;\n",
              "    }\n",
              "\n",
              "    .dataframe thead th {\n",
              "        text-align: right;\n",
              "    }\n",
              "</style>\n",
              "<table border=\"1\" class=\"dataframe\">\n",
              "  <thead>\n",
              "    <tr style=\"text-align: right;\">\n",
              "      <th></th>\n",
              "      <th>price</th>\n",
              "      <th>bedrooms</th>\n",
              "      <th>bathrooms</th>\n",
              "      <th>floors</th>\n",
              "      <th>waterfront</th>\n",
              "      <th>view</th>\n",
              "      <th>condition</th>\n",
              "      <th>grade</th>\n",
              "      <th>sqft_basement</th>\n",
              "      <th>yr_built</th>\n",
              "      <th>yr_renovated</th>\n",
              "      <th>sqft_living15</th>\n",
              "      <th>sqft_lot15</th>\n",
              "    </tr>\n",
              "  </thead>\n",
              "  <tbody>\n",
              "    <tr>\n",
              "      <th>price</th>\n",
              "      <td>2.678227</td>\n",
              "      <td>0.095827</td>\n",
              "      <td>-0.515595</td>\n",
              "      <td>-0.193265</td>\n",
              "      <td>-0.386013</td>\n",
              "      <td>-0.233783</td>\n",
              "      <td>-0.086024</td>\n",
              "      <td>-1.326061</td>\n",
              "      <td>-0.260585</td>\n",
              "      <td>0.836509</td>\n",
              "      <td>-0.034922</td>\n",
              "      <td>-0.449454</td>\n",
              "      <td>0.033399</td>\n",
              "    </tr>\n",
              "    <tr>\n",
              "      <th>bedrooms</th>\n",
              "      <td>0.095827</td>\n",
              "      <td>1.521932</td>\n",
              "      <td>-0.744728</td>\n",
              "      <td>-0.017526</td>\n",
              "      <td>0.029484</td>\n",
              "      <td>0.123513</td>\n",
              "      <td>-0.059432</td>\n",
              "      <td>0.011167</td>\n",
              "      <td>-0.237297</td>\n",
              "      <td>0.194887</td>\n",
              "      <td>0.036750</td>\n",
              "      <td>-0.315627</td>\n",
              "      <td>0.046986</td>\n",
              "    </tr>\n",
              "    <tr>\n",
              "      <th>bathrooms</th>\n",
              "      <td>-0.515595</td>\n",
              "      <td>-0.744728</td>\n",
              "      <td>3.141242</td>\n",
              "      <td>-0.756117</td>\n",
              "      <td>0.055060</td>\n",
              "      <td>0.011133</td>\n",
              "      <td>-0.111714</td>\n",
              "      <td>-0.424780</td>\n",
              "      <td>-0.664123</td>\n",
              "      <td>-0.991299</td>\n",
              "      <td>-0.258704</td>\n",
              "      <td>-0.224470</td>\n",
              "      <td>-0.044480</td>\n",
              "    </tr>\n",
              "    <tr>\n",
              "      <th>floors</th>\n",
              "      <td>-0.193265</td>\n",
              "      <td>-0.017526</td>\n",
              "      <td>-0.756117</td>\n",
              "      <td>1.904902</td>\n",
              "      <td>0.013121</td>\n",
              "      <td>-0.040063</td>\n",
              "      <td>0.141576</td>\n",
              "      <td>-0.363449</td>\n",
              "      <td>0.706072</td>\n",
              "      <td>-0.331479</td>\n",
              "      <td>-0.056231</td>\n",
              "      <td>0.244675</td>\n",
              "      <td>0.117142</td>\n",
              "    </tr>\n",
              "    <tr>\n",
              "      <th>waterfront</th>\n",
              "      <td>-0.386013</td>\n",
              "      <td>0.029484</td>\n",
              "      <td>0.055060</td>\n",
              "      <td>0.013121</td>\n",
              "      <td>1.256503</td>\n",
              "      <td>-0.458313</td>\n",
              "      <td>-0.002492</td>\n",
              "      <td>0.206568</td>\n",
              "      <td>0.064634</td>\n",
              "      <td>-0.134913</td>\n",
              "      <td>-0.062188</td>\n",
              "      <td>0.084149</td>\n",
              "      <td>-0.010137</td>\n",
              "    </tr>\n",
              "    <tr>\n",
              "      <th>view</th>\n",
              "      <td>-0.233783</td>\n",
              "      <td>0.123513</td>\n",
              "      <td>0.011133</td>\n",
              "      <td>-0.040063</td>\n",
              "      <td>-0.458313</td>\n",
              "      <td>1.423849</td>\n",
              "      <td>0.000023</td>\n",
              "      <td>-0.055835</td>\n",
              "      <td>-0.262364</td>\n",
              "      <td>0.124796</td>\n",
              "      <td>-0.029257</td>\n",
              "      <td>-0.209695</td>\n",
              "      <td>-0.034198</td>\n",
              "    </tr>\n",
              "    <tr>\n",
              "      <th>condition</th>\n",
              "      <td>-0.086024</td>\n",
              "      <td>-0.059432</td>\n",
              "      <td>-0.111714</td>\n",
              "      <td>0.141576</td>\n",
              "      <td>-0.002492</td>\n",
              "      <td>0.000023</td>\n",
              "      <td>1.223726</td>\n",
              "      <td>0.036707</td>\n",
              "      <td>-0.072978</td>\n",
              "      <td>0.443233</td>\n",
              "      <td>0.196467</td>\n",
              "      <td>0.060523</td>\n",
              "      <td>-0.022744</td>\n",
              "    </tr>\n",
              "    <tr>\n",
              "      <th>grade</th>\n",
              "      <td>-1.326061</td>\n",
              "      <td>0.011167</td>\n",
              "      <td>-0.424780</td>\n",
              "      <td>-0.363449</td>\n",
              "      <td>0.206568</td>\n",
              "      <td>-0.055835</td>\n",
              "      <td>0.036707</td>\n",
              "      <td>3.433395</td>\n",
              "      <td>0.000659</td>\n",
              "      <td>-0.702652</td>\n",
              "      <td>-0.030013</td>\n",
              "      <td>-1.100077</td>\n",
              "      <td>-0.018068</td>\n",
              "    </tr>\n",
              "    <tr>\n",
              "      <th>sqft_basement</th>\n",
              "      <td>-0.260585</td>\n",
              "      <td>-0.237297</td>\n",
              "      <td>-0.664123</td>\n",
              "      <td>0.706072</td>\n",
              "      <td>0.064634</td>\n",
              "      <td>-0.262364</td>\n",
              "      <td>-0.072978</td>\n",
              "      <td>0.000659</td>\n",
              "      <td>1.602851</td>\n",
              "      <td>0.183155</td>\n",
              "      <td>0.010348</td>\n",
              "      <td>0.098337</td>\n",
              "      <td>0.052520</td>\n",
              "    </tr>\n",
              "    <tr>\n",
              "      <th>yr_built</th>\n",
              "      <td>0.836509</td>\n",
              "      <td>0.194887</td>\n",
              "      <td>-0.991299</td>\n",
              "      <td>-0.331479</td>\n",
              "      <td>-0.134913</td>\n",
              "      <td>0.124796</td>\n",
              "      <td>0.443233</td>\n",
              "      <td>-0.702652</td>\n",
              "      <td>0.183155</td>\n",
              "      <td>2.248468</td>\n",
              "      <td>0.471675</td>\n",
              "      <td>-0.152556</td>\n",
              "      <td>-0.050389</td>\n",
              "    </tr>\n",
              "    <tr>\n",
              "      <th>yr_renovated</th>\n",
              "      <td>-0.034922</td>\n",
              "      <td>0.036750</td>\n",
              "      <td>-0.258704</td>\n",
              "      <td>-0.056231</td>\n",
              "      <td>-0.062188</td>\n",
              "      <td>-0.029257</td>\n",
              "      <td>0.196467</td>\n",
              "      <td>-0.030013</td>\n",
              "      <td>0.010348</td>\n",
              "      <td>0.471675</td>\n",
              "      <td>1.144067</td>\n",
              "      <td>0.073594</td>\n",
              "      <td>-0.024133</td>\n",
              "    </tr>\n",
              "    <tr>\n",
              "      <th>sqft_living15</th>\n",
              "      <td>-0.449454</td>\n",
              "      <td>-0.315627</td>\n",
              "      <td>-0.224470</td>\n",
              "      <td>0.244675</td>\n",
              "      <td>0.084149</td>\n",
              "      <td>-0.209695</td>\n",
              "      <td>0.060523</td>\n",
              "      <td>-1.100077</td>\n",
              "      <td>0.098337</td>\n",
              "      <td>-0.152556</td>\n",
              "      <td>0.073594</td>\n",
              "      <td>2.360004</td>\n",
              "      <td>-0.210728</td>\n",
              "    </tr>\n",
              "    <tr>\n",
              "      <th>sqft_lot15</th>\n",
              "      <td>0.033399</td>\n",
              "      <td>0.046986</td>\n",
              "      <td>-0.044480</td>\n",
              "      <td>0.117142</td>\n",
              "      <td>-0.010137</td>\n",
              "      <td>-0.034198</td>\n",
              "      <td>-0.022744</td>\n",
              "      <td>-0.018068</td>\n",
              "      <td>0.052520</td>\n",
              "      <td>-0.050389</td>\n",
              "      <td>-0.024133</td>\n",
              "      <td>-0.210728</td>\n",
              "      <td>1.047349</td>\n",
              "    </tr>\n",
              "  </tbody>\n",
              "</table>\n",
              "</div>"
            ],
            "text/plain": [
              "                  price  bedrooms  ...  sqft_living15  sqft_lot15\n",
              "price          2.678227  0.095827  ...      -0.449454    0.033399\n",
              "bedrooms       0.095827  1.521932  ...      -0.315627    0.046986\n",
              "bathrooms     -0.515595 -0.744728  ...      -0.224470   -0.044480\n",
              "floors        -0.193265 -0.017526  ...       0.244675    0.117142\n",
              "waterfront    -0.386013  0.029484  ...       0.084149   -0.010137\n",
              "view          -0.233783  0.123513  ...      -0.209695   -0.034198\n",
              "condition     -0.086024 -0.059432  ...       0.060523   -0.022744\n",
              "grade         -1.326061  0.011167  ...      -1.100077   -0.018068\n",
              "sqft_basement -0.260585 -0.237297  ...       0.098337    0.052520\n",
              "yr_built       0.836509  0.194887  ...      -0.152556   -0.050389\n",
              "yr_renovated  -0.034922  0.036750  ...       0.073594   -0.024133\n",
              "sqft_living15 -0.449454 -0.315627  ...       2.360004   -0.210728\n",
              "sqft_lot15     0.033399  0.046986  ...      -0.210728    1.047349\n",
              "\n",
              "[13 rows x 13 columns]"
            ]
          },
          "metadata": {
            "tags": []
          },
          "execution_count": 37
        }
      ]
    },
    {
      "cell_type": "code",
      "metadata": {
        "id": "WVl6qahZbrpX",
        "colab_type": "code",
        "colab": {
          "base_uri": "https://localhost:8080/",
          "height": 34
        },
        "outputId": "84e302e2-ee2d-4ee2-dfc9-a684ef85705f"
      },
      "source": [
        "value= vif.values\n",
        "(value > 5).any()"
      ],
      "execution_count": 38,
      "outputs": [
        {
          "output_type": "execute_result",
          "data": {
            "text/plain": [
              "False"
            ]
          },
          "metadata": {
            "tags": []
          },
          "execution_count": 38
        }
      ]
    },
    {
      "cell_type": "markdown",
      "metadata": {
        "colab_type": "text",
        "id": "NQdfyJ3BYQYV"
      },
      "source": [
        "All the variables have VIF of less than 5 hence can be used for prediction."
      ]
    },
    {
      "cell_type": "markdown",
      "metadata": {
        "colab_type": "text",
        "id": "1WhssgvaY5Mr"
      },
      "source": [
        "##**Normalization of the data**"
      ]
    },
    {
      "cell_type": "code",
      "metadata": {
        "colab_type": "code",
        "id": "WYnp2XUgagFR",
        "colab": {}
      },
      "source": [
        "#select the attributes and the label\n",
        "X = house_df[['bedrooms', 'bathrooms', 'floors', 'waterfront', 'view',\n",
        "       'condition', 'grade', 'sqft_basement', 'yr_built', 'yr_renovated',\n",
        "       'sqft_living15', 'sqft_lot15']].values\n",
        "y = np.log(house_df['price'])\n",
        "\n"
      ],
      "execution_count": 0,
      "outputs": []
    },
    {
      "cell_type": "code",
      "metadata": {
        "colab_type": "code",
        "id": "Cj_i99wYbi0Q",
        "colab": {}
      },
      "source": [
        "# splitting using train_test_split()\n",
        "X_train, X_test, y_train, y_test = train_test_split(X, y, test_size = 0.2, random_state = 0)"
      ],
      "execution_count": 0,
      "outputs": []
    },
    {
      "cell_type": "code",
      "metadata": {
        "colab_type": "code",
        "id": "S0ZSL9hzbylI",
        "colab": {}
      },
      "source": [
        "# use standard scalar normalization to normalize our feature set. \n",
        "\n",
        "sc = StandardScaler()\n",
        "X_train = sc.fit_transform(X_train)\n",
        "X_test = sc.transform(X_test)"
      ],
      "execution_count": 0,
      "outputs": []
    },
    {
      "cell_type": "markdown",
      "metadata": {
        "colab_type": "text",
        "id": "hn1XtgNsd77h"
      },
      "source": [
        "##**Multiple Linear Regression**"
      ]
    },
    {
      "cell_type": "code",
      "metadata": {
        "colab_type": "code",
        "id": "GlK5NFtAdbUH",
        "outputId": "0cccc852-88a8-424b-be09-9f05cddd995c",
        "colab": {
          "base_uri": "https://localhost:8080/",
          "height": 34
        }
      },
      "source": [
        "regressor = LinearRegression()\n",
        "\n",
        "regressor.fit(X_train,y_train)"
      ],
      "execution_count": 70,
      "outputs": [
        {
          "output_type": "execute_result",
          "data": {
            "text/plain": [
              "LinearRegression(copy_X=True, fit_intercept=True, n_jobs=None, normalize=False)"
            ]
          },
          "metadata": {
            "tags": []
          },
          "execution_count": 70
        }
      ]
    },
    {
      "cell_type": "code",
      "metadata": {
        "colab_type": "code",
        "id": "lBvobBc5eBCQ",
        "outputId": "f99e6b87-803b-4a24-b2ad-a308b10cbe31",
        "colab": {
          "base_uri": "https://localhost:8080/",
          "height": 34
        }
      },
      "source": [
        "#Check the intercept\n",
        "regressor.intercept_"
      ],
      "execution_count": 71,
      "outputs": [
        {
          "output_type": "execute_result",
          "data": {
            "text/plain": [
              "13.048079384489633"
            ]
          },
          "metadata": {
            "tags": []
          },
          "execution_count": 71
        }
      ]
    },
    {
      "cell_type": "code",
      "metadata": {
        "colab_type": "code",
        "id": "2ARh2lTEeGOP",
        "outputId": "5835227f-339e-4278-ae07-f21d8d261c39",
        "colab": {
          "base_uri": "https://localhost:8080/",
          "height": 68
        }
      },
      "source": [
        "#Check the coefficient\n",
        "regressor.coef_"
      ],
      "execution_count": 72,
      "outputs": [
        {
          "output_type": "execute_result",
          "data": {
            "text/plain": [
              "array([-4.23593212e-03,  8.37048990e-02,  7.25063753e-02,  3.22985365e-02,\n",
              "        2.86414078e-02,  2.64607857e-02,  2.68505289e-01,  5.76228783e-02,\n",
              "       -1.66866596e-01,  7.10273591e-03,  1.04116714e-01,  7.93911243e-05])"
            ]
          },
          "metadata": {
            "tags": []
          },
          "execution_count": 72
        }
      ]
    },
    {
      "cell_type": "code",
      "metadata": {
        "colab_type": "code",
        "id": "5a0dMqCpePtW",
        "outputId": "abb9553e-8504-4809-a09a-0d8028c4eddb",
        "colab": {
          "base_uri": "https://localhost:8080/",
          "height": 51
        }
      },
      "source": [
        "# Predict the model\n",
        "y_pred = regressor.predict(X_test)\n",
        "y_pred"
      ],
      "execution_count": 73,
      "outputs": [
        {
          "output_type": "execute_result",
          "data": {
            "text/plain": [
              "array([12.93958509, 12.88760611, 12.78439767, ..., 12.33585618,\n",
              "       13.25662375, 12.69577144])"
            ]
          },
          "metadata": {
            "tags": []
          },
          "execution_count": 73
        }
      ]
    },
    {
      "cell_type": "code",
      "metadata": {
        "colab_type": "code",
        "id": "SrhYYwHXeZAW",
        "outputId": "95fe4204-b85b-4962-cf8c-0531afce65a4",
        "colab": {
          "base_uri": "https://localhost:8080/",
          "height": 51
        }
      },
      "source": [
        "#check model accuracy \n",
        "\n",
        "print('Root Mean Squared Error:', np.sqrt(metrics.mean_squared_error(y_test, y_pred)))\n",
        "print(\"Mean price\", np.mean(y))"
      ],
      "execution_count": 81,
      "outputs": [
        {
          "output_type": "stream",
          "text": [
            "Root Mean Squared Error: 0.6915359498690568\n",
            "Mean price 13.04781752172756\n"
          ],
          "name": "stdout"
        }
      ]
    },
    {
      "cell_type": "markdown",
      "metadata": {
        "id": "JBOBikeACwHt",
        "colab_type": "text"
      },
      "source": [
        "Since the root mean squared is less than 10 % of the the mean of the label, then the model is pretty good"
      ]
    },
    {
      "cell_type": "code",
      "metadata": {
        "colab_type": "code",
        "id": "06vFBf7HenxS",
        "outputId": "cb859700-bd83-4009-9b89-58793573dce1",
        "colab": {
          "base_uri": "https://localhost:8080/",
          "height": 34
        }
      },
      "source": [
        "#Check for the coefficient of multiple determination for multiple regression.\n",
        "r2_score(y_test,y_pred)"
      ],
      "execution_count": 75,
      "outputs": [
        {
          "output_type": "execute_result",
          "data": {
            "text/plain": [
              "0.6552919016043568"
            ]
          },
          "metadata": {
            "tags": []
          },
          "execution_count": 75
        }
      ]
    },
    {
      "cell_type": "markdown",
      "metadata": {
        "colab_type": "text",
        "id": "bgppkJ7Bf8MX"
      },
      "source": [
        "The r2 = 65% shows that  the fitted values are almost equal to the observed values and, therefore, most of  the data points fall on the regression line.\n",
        "\n",
        "However,r2 cannot determine whether the coefficient estimates and predictions are biased, which is why we proceed to assess the residual plots."
      ]
    },
    {
      "cell_type": "markdown",
      "metadata": {
        "colab_type": "text",
        "id": "_b7zvafhfjt2"
      },
      "source": [
        "##**Residual plots: Heteroskedasticity Testing**"
      ]
    },
    {
      "cell_type": "code",
      "metadata": {
        "colab_type": "code",
        "id": "DsVAVM0-fdDh",
        "outputId": "fbcab552-4c15-4aba-8a4b-756aca811a7c",
        "colab": {
          "base_uri": "https://localhost:8080/",
          "height": 204
        }
      },
      "source": [
        "#Calculating the residuals\n",
        "residuals = np.subtract(y_pred, y_test)\n",
        "\n",
        "# Let's describe our residual:\n",
        "print(pd.DataFrame(residuals).describe())\n",
        "print('-------------------------------------------')\n",
        "print(residuals.mean())"
      ],
      "execution_count": 82,
      "outputs": [
        {
          "output_type": "stream",
          "text": [
            "             price\n",
            "count  4322.000000\n",
            "mean     -0.002596\n",
            "std       0.691611\n",
            "min      -3.360185\n",
            "25%      -0.447786\n",
            "50%       0.004150\n",
            "75%       0.427403\n",
            "max       3.344816\n",
            "-------------------------------------------\n",
            "-0.0025962207277773846\n"
          ],
          "name": "stdout"
        }
      ]
    },
    {
      "cell_type": "code",
      "metadata": {
        "colab_type": "code",
        "id": "rE0sp_C7gfSr",
        "outputId": "92ee806f-5ae7-4df8-8154-6c4cf8b83c00",
        "colab": {
          "base_uri": "https://localhost:8080/",
          "height": 295
        }
      },
      "source": [
        "plt.scatter(y_pred, residuals, color='blue')\n",
        "plt.ylabel('residual')\n",
        "plt.xlabel('fitted values')\n",
        "plt.axhline(y= residuals.mean(), color='black', linewidth=1.2)\n",
        "plt.title('Residual plots')\n",
        "plt.show()"
      ],
      "execution_count": 86,
      "outputs": [
        {
          "output_type": "display_data",
          "data": {
            "image/png": "[encoded data removed]",
            "text/plain": [
              "<Figure size 432x288 with 1 Axes>"
            ]
          },
          "metadata": {
            "tags": [],
            "needs_background": "light"
          }
        }
      ]
    },
    {
      "cell_type": "markdown",
      "metadata": {
        "colab_type": "text",
        "id": "6Q8RhQn4hWsr"
      },
      "source": [
        "\n",
        "\n",
        "*   There are no patterns from the plot above\n",
        "\n",
        "\n",
        "\n"
      ]
    },
    {
      "cell_type": "markdown",
      "metadata": {
        "colab_type": "text",
        "id": "kR2WpxiPh-py"
      },
      "source": [
        "###**Heteroskedasticity**"
      ]
    },
    {
      "cell_type": "code",
      "metadata": {
        "colab_type": "code",
        "id": "oAKF5tvahqV8",
        "outputId": "772e6654-2b8e-4fb9-fdd5-f131be326462",
        "colab": {
          "base_uri": "https://localhost:8080/",
          "height": 34
        }
      },
      "source": [
        "test_result, p_value = sp.stats.bartlett(y_pred, residuals)\n",
        "\n",
        "# compute the critical value of the chi squared distribution\n",
        "degree_of_freedom = len(y_pred)-1\n",
        "probability = 1 - p_value\n",
        "\n",
        "critical_value = sp.stats.chi2.ppf(probability, degree_of_freedom)\n",
        "\n",
        "# If the test_result is greater than the critical value, reject the null hypothesis. \n",
        "# This means there are patterns to the variance of the data\n",
        "\n",
        "# Otherwise, identify no patterns, and  accept the null hypothesis \n",
        "# The variance is homogeneous across our data\n",
        "\n",
        "if(test_result > critical_value):\n",
        "    print(\"the variances are unequal, and the model should be reassessed\")\n",
        "else:\n",
        "    print(\"The variances are homogeneous!\")"
      ],
      "execution_count": 87,
      "outputs": [
        {
          "output_type": "stream",
          "text": [
            "The variances are homogeneous!\n"
          ],
          "name": "stdout"
        }
      ]
    },
    {
      "cell_type": "markdown",
      "metadata": {
        "colab_type": "text",
        "id": "WP7SrWKviLCP"
      },
      "source": [
        "###**Quantile Regression**"
      ]
    },
    {
      "cell_type": "code",
      "metadata": {
        "colab_type": "code",
        "id": "SZwVNYIPh6mw",
        "colab": {}
      },
      "source": [
        "#create a train and a test for the model\n",
        "X_train, X_test, y_train, y_test = train_test_split(X, y, test_size=0.2, random_state=50)"
      ],
      "execution_count": 0,
      "outputs": []
    },
    {
      "cell_type": "code",
      "metadata": {
        "colab_type": "code",
        "id": "sQyCpM0micm9",
        "outputId": "a905441c-ea12-4bea-e3ce-a2dc9951530b",
        "colab": {
          "base_uri": "https://localhost:8080/",
          "height": 493
        }
      },
      "source": [
        "# Find the regression coefficients for the conditioned median, 0.5 quantile\n",
        "\n",
        "import statsmodels.formula.api as smf\n",
        "mod = smf.quantreg('y ~ X', house_df)\n",
        "res = mod.fit(q=.5)\n",
        "\n",
        "print(res.summary())"
      ],
      "execution_count": 91,
      "outputs": [
        {
          "output_type": "stream",
          "text": [
            "                         QuantReg Regression Results                          \n",
            "==============================================================================\n",
            "Dep. Variable:                      y   Pseudo R-squared:               0.4020\n",
            "Model:                       QuantReg   Bandwidth:                     0.05420\n",
            "Method:                 Least Squares   Sparsity:                       0.7940\n",
            "Date:                Sun, 07 Jun 2020   No. Observations:                21606\n",
            "Time:                        14:16:08   Df Residuals:                    21593\n",
            "                                        Df Model:                           12\n",
            "==============================================================================\n",
            "                 coef    std err          t      P>|t|      [0.025      0.975]\n",
            "------------------------------------------------------------------------------\n",
            "Intercept     22.6123      0.254     89.032      0.000      22.114      23.110\n",
            "X[0]          -0.0126      0.004     -3.434      0.001      -0.020      -0.005\n",
            "X[1]           0.1025      0.006     16.755      0.000       0.090       0.114\n",
            "X[2]           0.1439      0.007     20.924      0.000       0.130       0.157\n",
            "X[3]           0.4009      0.034     11.720      0.000       0.334       0.468\n",
            "X[4]           0.0330      0.004      7.899      0.000       0.025       0.041\n",
            "X[5]           0.0427      0.005      9.305      0.000       0.034       0.052\n",
            "X[6]           0.2310      0.004     60.325      0.000       0.223       0.238\n",
            "X[7]           0.0001   7.66e-06     18.921      0.000       0.000       0.000\n",
            "X[8]          -0.0062      0.000    -47.772      0.000      -0.006      -0.006\n",
            "X[9]        1.311e-06    7.2e-06      0.182      0.855   -1.28e-05    1.54e-05\n",
            "X[10]          0.0001   5.96e-06     25.124      0.000       0.000       0.000\n",
            "X[11]      -6.251e-08   1.01e-07     -0.618      0.537   -2.61e-07    1.36e-07\n",
            "==============================================================================\n",
            "\n",
            "The condition number is large, 2.84e+06. This might indicate that there are\n",
            "strong multicollinearity or other numerical problems.\n"
          ],
          "name": "stdout"
        }
      ]
    },
    {
      "cell_type": "code",
      "metadata": {
        "colab_type": "code",
        "id": "l-TMHUmoihOj",
        "outputId": "8724bc98-07a9-410c-b18e-acffdca3aad7",
        "colab": {
          "base_uri": "https://localhost:8080/",
          "height": 255
        }
      },
      "source": [
        "house_df.dtypes"
      ],
      "execution_count": 92,
      "outputs": [
        {
          "output_type": "execute_result",
          "data": {
            "text/plain": [
              "price            float64\n",
              "bedrooms           int64\n",
              "bathrooms        float64\n",
              "floors           float64\n",
              "waterfront         int64\n",
              "view               int64\n",
              "condition          int64\n",
              "grade              int64\n",
              "sqft_basement      int64\n",
              "yr_built           int64\n",
              "yr_renovated       int64\n",
              "sqft_living15      int64\n",
              "sqft_lot15         int64\n",
              "dtype: object"
            ]
          },
          "metadata": {
            "tags": []
          },
          "execution_count": 92
        }
      ]
    },
    {
      "cell_type": "code",
      "metadata": {
        "colab_type": "code",
        "id": "FcjOeyWumdMc",
        "colab": {}
      },
      "source": [
        "new_house_df = house_df.copy()"
      ],
      "execution_count": 0,
      "outputs": []
    },
    {
      "cell_type": "code",
      "metadata": {
        "colab_type": "code",
        "id": "V7Qt1ZQvmJUp",
        "outputId": "65e19d17-a50e-4b1f-b6a5-4978879461e1",
        "colab": {
          "base_uri": "https://localhost:8080/",
          "height": 34
        }
      },
      "source": [
        "\n",
        "cols = new_house_df.columns[new_house_df.dtypes.eq('object')]\n",
        "cols"
      ],
      "execution_count": 94,
      "outputs": [
        {
          "output_type": "execute_result",
          "data": {
            "text/plain": [
              "Index([], dtype='object')"
            ]
          },
          "metadata": {
            "tags": []
          },
          "execution_count": 94
        }
      ]
    },
    {
      "cell_type": "markdown",
      "metadata": {
        "colab_type": "text",
        "id": "dfI1PdeHmt4V"
      },
      "source": [
        "###**Ridge Regression**"
      ]
    },
    {
      "cell_type": "code",
      "metadata": {
        "colab_type": "code",
        "id": "JuqT2JPnmq08",
        "colab": {}
      },
      "source": [
        "X_train, X_test, y_train, y_test = train_test_split(X, y, test_size=0.2, random_state=101)"
      ],
      "execution_count": 0,
      "outputs": []
    },
    {
      "cell_type": "code",
      "metadata": {
        "colab_type": "code",
        "id": "S8epRpECoQH6",
        "colab": {}
      },
      "source": [
        "ridge = Ridge(normalize=True)\n",
        "search = GridSearchCV(estimator=ridge,param_grid={'alpha':np.logspace(-5,2,8)},scoring='neg_mean_squared_error',n_jobs=1,refit=True,cv=5)"
      ],
      "execution_count": 0,
      "outputs": []
    },
    {
      "cell_type": "code",
      "metadata": {
        "colab_type": "code",
        "id": "Eao5HVpNnEoB",
        "outputId": "51754510-d6c4-4bda-a900-a7fa4cb3a587",
        "colab": {
          "base_uri": "https://localhost:8080/",
          "height": 34
        }
      },
      "source": [
        "#determine the strength of the model using best params and best score\n",
        "search.fit(X_train,y_train)\n",
        "search.best_params_\n",
        "{'alpha': 0.001}\n",
        "abs(search.best_score_)"
      ],
      "execution_count": 100,
      "outputs": [
        {
          "output_type": "execute_result",
          "data": {
            "text/plain": [
              "0.09688839519417827"
            ]
          },
          "metadata": {
            "tags": []
          },
          "execution_count": 100
        }
      ]
    },
    {
      "cell_type": "code",
      "metadata": {
        "colab_type": "code",
        "id": "MxiuDuMgnpSR",
        "outputId": "2b5d0098-67f1-4794-ba8d-ede2e6e7caa0",
        "colab": {
          "base_uri": "https://localhost:8080/",
          "height": 34
        }
      },
      "source": [
        "# Create another model\n",
        "ridge = Ridge(normalize=True,alpha=0.001)\n",
        "ridge.fit(X_train,y_train)\n",
        "second_model = (mean_squared_error(y_true=y,y_pred=ridge.predict(X)))\n",
        "print(second_model)"
      ],
      "execution_count": 104,
      "outputs": [
        {
          "output_type": "stream",
          "text": [
            "0.09728264229591489\n"
          ],
          "name": "stdout"
        }
      ]
    },
    {
      "cell_type": "code",
      "metadata": {
        "colab_type": "code",
        "id": "KsSR2KZ0q-oy",
        "outputId": "9ac83bd8-4cb0-4887-c9e8-f9f247ff3521",
        "colab": {
          "base_uri": "https://localhost:8080/",
          "height": 51
        }
      },
      "source": [
        "# Predict using the model\n",
        "y_pred=ridge.predict(X)\n",
        "y_pred"
      ],
      "execution_count": 105,
      "outputs": [
        {
          "output_type": "execute_result",
          "data": {
            "text/plain": [
              "array([12.63855871, 13.07461655, 12.74565125, ..., 12.41024569,\n",
              "       12.90042766, 12.41588854])"
            ]
          },
          "metadata": {
            "tags": []
          },
          "execution_count": 105
        }
      ]
    },
    {
      "cell_type": "code",
      "metadata": {
        "colab_type": "code",
        "id": "6_axZgJkrLI0",
        "outputId": "55b86239-3205-445f-8e81-e307a5a367af",
        "colab": {
          "base_uri": "https://localhost:8080/",
          "height": 221
        }
      },
      "source": [
        "coef_dict_baseline = {}\n",
        "for coef, feat in zip(ridge.coef_,new_house_df.columns):\n",
        "    coef_dict_baseline[feat] = coef\n",
        "coef_dict_baseline"
      ],
      "execution_count": 106,
      "outputs": [
        {
          "output_type": "execute_result",
          "data": {
            "text/plain": [
              "{'bathrooms': 0.141704400356556,\n",
              " 'bedrooms': 0.10324192772114471,\n",
              " 'condition': 0.23000450582574206,\n",
              " 'floors': 0.37473848926249015,\n",
              " 'grade': 0.00013718654697447323,\n",
              " 'price': -0.006995715711964106,\n",
              " 'sqft_basement': -0.005619178672971617,\n",
              " 'sqft_living15': -3.64099704189029e-08,\n",
              " 'view': 0.04135057915295925,\n",
              " 'waterfront': 0.037953746611213465,\n",
              " 'yr_built': 1.7896475432674518e-05,\n",
              " 'yr_renovated': 0.00014968639067743046}"
            ]
          },
          "metadata": {
            "tags": []
          },
          "execution_count": 106
        }
      ]
    },
    {
      "cell_type": "markdown",
      "metadata": {
        "colab_type": "text",
        "id": "eCFS3k1mri2n"
      },
      "source": [
        "\n",
        "\n",
        "*   The number of floors has a large impact on the response variable \n",
        "\n",
        "\n",
        "\n",
        "\n",
        "\n",
        "\n",
        "\n",
        "\n",
        "\n",
        "\n",
        "\n",
        "\n"
      ]
    },
    {
      "cell_type": "markdown",
      "metadata": {
        "colab_type": "text",
        "id": "x1oOVrcWsqzY"
      },
      "source": [
        "###**Lasso regression**\n",
        "\n",
        "Performs L1 regularization, i.e. adds penalty equivalent to absolute value of the magnitude of coefficients"
      ]
    },
    {
      "cell_type": "code",
      "metadata": {
        "colab_type": "code",
        "id": "0qJMGoWcrVqb",
        "colab": {}
      },
      "source": [
        "\n",
        "#Scale our data\n",
        "\n",
        "scaler = StandardScaler()\n",
        "scaler.fit(X)\n",
        "X = scaler.transform(X)"
      ],
      "execution_count": 0,
      "outputs": []
    },
    {
      "cell_type": "code",
      "metadata": {
        "colab_type": "code",
        "id": "U4gNz8fptA50",
        "outputId": "75bc4f3e-56e4-4431-cfeb-5d568aee16f5",
        "colab": {
          "base_uri": "https://localhost:8080/",
          "height": 68
        }
      },
      "source": [
        "\n",
        "# Creating lasso object\n",
        "lasso = linear_model.Lasso() \n",
        "\n",
        "\n",
        "# Fitting the models\n",
        "lasso.fit(X, y) \n",
        "\n",
        "\n",
        "print(\"lasso score:\", lasso.score(X, y)) \n",
        "print(\"lasso MSE:\", mean_squared_error(y, lasso.predict(X))) \n",
        "print(\"lasso coef:\", lasso.coef_)"
      ],
      "execution_count": 108,
      "outputs": [
        {
          "output_type": "stream",
          "text": [
            "lasso score: 0.0\n",
            "lasso MSE: 0.2776031344216489\n",
            "lasso coef: [0. 0. 0. 0. 0. 0. 0. 0. 0. 0. 0. 0.]\n"
          ],
          "name": "stdout"
        }
      ]
    },
    {
      "cell_type": "code",
      "metadata": {
        "colab_type": "code",
        "id": "HzQrWHbBtFlY",
        "outputId": "9790919f-f875-4013-908e-2f2a32544aaf",
        "colab": {
          "base_uri": "https://localhost:8080/",
          "height": 170
        }
      },
      "source": [
        "#Splitting the data into training and test sets and choose your parameters with GridSearch\n",
        "X_train, X_test, y_train, y_test = train_test_split(X, y, test_size=0.2, random_state=25)\n",
        "parameters = {'alpha': np.concatenate((np.arange(0.1,2,0.1), np.arange(2, 5, 0.5), np.arange(5, 25, 1)))}\n",
        "\n",
        "linear = linear_model.LinearRegression()\n",
        "lasso = linear_model.Lasso() \n",
        "gridlasso = GridSearchCV(lasso, parameters, scoring ='r2') \n",
        "\n",
        "# Fitting models and print the best parameters, R-squared scores, MSE, and coefficients\n",
        "gridlasso.fit(X_train, y_train) \n",
        "linear.fit(X_train, y_train) \n",
        "print(\"lasso best parameters:\", gridlasso.best_params_) \n",
        "print(\"lasso score:\", gridlasso.score(X_test, y_test))\n",
        "print(\"linear score:\", linear.score(X_test, y_test)) \n",
        "print(\"lasso MSE:\", mean_squared_error(y_test, gridlasso.predict(X_test)))\n",
        "print(\"linear MSE:\", mean_squared_error(y_test, linear.predict(X_test))) \n",
        "print(\"lasso best estimator coef:\", gridlasso.best_estimator_.coef_)\n",
        "print(\"linear coef:\", linear.coef_)"
      ],
      "execution_count": 109,
      "outputs": [
        {
          "output_type": "stream",
          "text": [
            "lasso best parameters: {'alpha': 0.1}\n",
            "lasso score: 0.4796908232769117\n",
            "linear score: 0.6518460522705258\n",
            "lasso MSE: 0.14415163705307338\n",
            "linear MSE: 0.09645603759628414\n",
            "lasso best estimator coef: [ 0.          0.0009536   0.          0.          0.0021813   0.\n",
            "  0.2218897   0.01524368 -0.          0.          0.06413597  0.        ]\n",
            "linear coef: [-0.00728136  0.08083146  0.07354091  0.02797867  0.02929477  0.02679547\n",
            "  0.26936119  0.06065812 -0.16493131  0.00467494  0.10336572 -0.00140629]\n"
          ],
          "name": "stdout"
        }
      ]
    },
    {
      "cell_type": "code",
      "metadata": {
        "colab_type": "code",
        "id": "4m85z4bHtKqJ",
        "outputId": "75638c37-4ded-4892-8597-46dba8b6b3fd",
        "colab": {
          "base_uri": "https://localhost:8080/",
          "height": 580
        }
      },
      "source": [
        "coefsLasso = [] \n",
        "\n",
        "# Building Lasso for 200 values of alpha and write the coefficients into array\n",
        "\n",
        "alphasLasso = np.arange (0, 20, 0.1) \n",
        "for i in range(200):\n",
        "    lasso = linear_model.Lasso(alpha=alphasLasso[i])\n",
        "    lasso.fit(X_train, y_train)\n",
        "    coefsLasso.append(lasso.coef_) \n",
        "\n",
        "# Building Lasso coefficient plots\n",
        "# \n",
        "plt.figure(figsize = (16,7))\n",
        "\n",
        "plt.subplot(121)\n",
        "plt.plot(alphasLasso, coefsLasso)\n",
        "plt.title('Lasso coefficients')\n",
        "plt.xlabel('alpha')\n",
        "plt.ylabel('coefs')\n",
        "\n",
        "plt.show()\n"
      ],
      "execution_count": 112,
      "outputs": [
        {
          "output_type": "stream",
          "text": [
            "/usr/local/lib/python3.6/dist-packages/ipykernel_launcher.py:8: UserWarning: With alpha=0, this algorithm does not converge well. You are advised to use the LinearRegression estimator\n",
            "  \n",
            "/usr/local/lib/python3.6/dist-packages/sklearn/linear_model/_coordinate_descent.py:476: UserWarning: Coordinate descent with no regularization may lead to unexpected results and is discouraged.\n",
            "  positive)\n",
            "/usr/local/lib/python3.6/dist-packages/sklearn/linear_model/_coordinate_descent.py:476: ConvergenceWarning: Objective did not converge. You might want to increase the number of iterations. Duality gap: 842.594799376084, tolerance: 0.4800459565012147\n",
            "  positive)\n"
          ],
          "name": "stderr"
        },
        {
          "output_type": "display_data",
          "data": {
            "image/png": "[encoded data removed]",
            "text/plain": [
              "<Figure size 1152x504 with 1 Axes>"
            ]
          },
          "metadata": {
            "tags": [],
            "needs_background": "light"
          }
        }
      ]
    },
    {
      "cell_type": "markdown",
      "metadata": {
        "colab_type": "text",
        "id": "AK6TSrWZtjrM"
      },
      "source": [
        "###**Elastic Net Regression**\n"
      ]
    },
    {
      "cell_type": "code",
      "metadata": {
        "colab_type": "code",
        "id": "aGdVBX8ztd3g",
        "colab": {}
      },
      "source": [
        "#In the grid ,we need to set several values of this argument.\n",
        "\n",
        "elastic=ElasticNet(normalize=True)\n",
        "search=GridSearchCV(estimator=elastic,param_grid={'alpha':np.logspace(-5,2,8),'l1_ratio':[.2,.4,.6,.8]},scoring='neg_mean_squared_error',n_jobs=1,refit=True,cv=10)"
      ],
      "execution_count": 0,
      "outputs": []
    },
    {
      "cell_type": "code",
      "metadata": {
        "colab_type": "code",
        "id": "vJvNfOe2v15O",
        "outputId": "de661bea-a2a3-42c3-c78d-a272918d07c6",
        "colab": {
          "base_uri": "https://localhost:8080/",
          "height": 51
        }
      },
      "source": [
        "#We will now fit our model and display the best parameters and the best results we can get with that setup.\n",
        "\n",
        "search.fit(X,y)\n",
        "print(search.best_params_)\n",
        "abs(search.best_score_)"
      ],
      "execution_count": 114,
      "outputs": [
        {
          "output_type": "stream",
          "text": [
            "{'alpha': 1e-05, 'l1_ratio': 0.8}\n"
          ],
          "name": "stdout"
        },
        {
          "output_type": "execute_result",
          "data": {
            "text/plain": [
              "0.09833575102756045"
            ]
          },
          "metadata": {
            "tags": []
          },
          "execution_count": 114
        }
      ]
    },
    {
      "cell_type": "markdown",
      "metadata": {
        "colab_type": "text",
        "id": "U3mUh7-uwhY4"
      },
      "source": [
        "the best hyperparameters was an alpha set to 0.00001 and a l1_ratio of 0.8. With these settings we got an MSE of 0.098.\n",
        "\n",
        " Which means that elastic net is doing worse than linear regression. For clarity, we will set our hyperparameters to the recommended values and run on the data."
      ]
    },
    {
      "cell_type": "code",
      "metadata": {
        "colab_type": "code",
        "id": "88nbWSydw518",
        "outputId": "abecff66-9ffb-4afd-d9a5-b09daec387b7",
        "colab": {
          "base_uri": "https://localhost:8080/",
          "height": 34
        }
      },
      "source": [
        "#We create the second model to see accuracy change\n",
        "elastic=ElasticNet(normalize=True,alpha=1e-05,l1_ratio=0.8)\n",
        "elastic.fit(X,y)\n",
        "second_model=(mean_squared_error(y_true=y,y_pred=elastic.predict(X)))\n",
        "print(second_model)"
      ],
      "execution_count": 115,
      "outputs": [
        {
          "output_type": "stream",
          "text": [
            "0.0976955581486225\n"
          ],
          "name": "stdout"
        }
      ]
    },
    {
      "cell_type": "markdown",
      "metadata": {
        "colab_type": "text",
        "id": "kpHd5LlMyPBy"
      },
      "source": [
        "###**Future questions**\n",
        "\n",
        "\n",
        "\n",
        "1. since most of our houses were relatively expenissive, did it affect the prediction output?\n",
        "2. Which other models provide better accuracy for price prediction?\n",
        "\n"
      ]
    },
    {
      "cell_type": "markdown",
      "metadata": {
        "colab_type": "text",
        "id": "Djsg3vywyrH1"
      },
      "source": [
        "###**Possible Solution**\n",
        "\n",
        "\n",
        "\n",
        "1.   Get data which has widespread variety of prices to avoid biasness of prediction results.\n",
        "\n",
        "\n"
      ]
    }
  ]
}